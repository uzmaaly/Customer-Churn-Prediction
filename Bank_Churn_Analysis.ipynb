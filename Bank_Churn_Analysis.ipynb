{
  "cells": [
    {
      "cell_type": "markdown",
      "metadata": {
        "id": "x0Mh4aVRcmRW"
      },
      "source": [
        "# Bank Churn Analysis\n",
        "\n",
        "\n",
        "The goal of this project is to predict customer churn using data from a bank. The dataset contains features such as customer demographics, credit score, balance, and whether they churned or not (target variable). The aim is to develop a machine learning model that accurately predicts churners, allowing the bank to target retention efforts effectively.\n",
        "\n",
        "# Initial Overview of the Dataset:\n",
        "The dataset seems to contain information about bank customers, with columns that could be useful for predicting churn (whether a customer leaves the bank). Here's a brief breakdown of the columns:\n",
        "\n",
        "1. customer_id: Unique identifier for each customer.\n",
        "2. credit_score: A numerical feature representing the credit score of the customer.\n",
        "3. country: The country the customer is from (categorical feature).\n",
        "4. gender: Gender of the customer (categorical).\n",
        "5. age: The age of the customer.\n",
        "6. tenure: How many years the customer has been with the bank.\n",
        "7. balance: The bank balance of the customer.\n",
        "8. products_number: The number of products the customer uses from the bank.\n",
        "9. credit_card: Whether the customer owns a credit card (binary: 1 for Yes, 0 for No).\n",
        "10. active_member: Whether the customer is an active member (binary: 1 for Yes, 0 for No).\n",
        "11. estimated_salary: Estimated salary of the customer.\n",
        "12. churn: The target variable indicating whether the customer churned (1 for Yes, 0 for No).\n"
      ]
    },
    {
      "cell_type": "code",
      "execution_count": 2,
      "metadata": {
        "id": "vM96Ki4_dC9n"
      },
      "outputs": [],
      "source": [
        "import pandas as pd\n",
        "import numpy as np\n",
        "import matplotlib.pyplot as plt\n",
        "%matplotlib inline\n",
        "import seaborn as sns\n",
        "import scipy.stats as stats\n",
        "import warnings\n",
        "warnings.filterwarnings('ignore')"
      ]
    },
    {
      "cell_type": "code",
      "execution_count": 3,
      "metadata": {
        "colab": {
          "base_uri": "https://localhost:8080/",
          "height": 206
        },
        "id": "WvqXA7T5dOUn",
        "outputId": "05bb79f5-d379-49b0-a9a4-f9dc35aa435e"
      },
      "outputs": [
        {
          "data": {
            "text/html": [
              "<div>\n",
              "<style scoped>\n",
              "    .dataframe tbody tr th:only-of-type {\n",
              "        vertical-align: middle;\n",
              "    }\n",
              "\n",
              "    .dataframe tbody tr th {\n",
              "        vertical-align: top;\n",
              "    }\n",
              "\n",
              "    .dataframe thead th {\n",
              "        text-align: right;\n",
              "    }\n",
              "</style>\n",
              "<table border=\"1\" class=\"dataframe\">\n",
              "  <thead>\n",
              "    <tr style=\"text-align: right;\">\n",
              "      <th></th>\n",
              "      <th>customer_id</th>\n",
              "      <th>credit_score</th>\n",
              "      <th>country</th>\n",
              "      <th>gender</th>\n",
              "      <th>age</th>\n",
              "      <th>tenure</th>\n",
              "      <th>balance</th>\n",
              "      <th>products_number</th>\n",
              "      <th>credit_card</th>\n",
              "      <th>active_member</th>\n",
              "      <th>estimated_salary</th>\n",
              "      <th>churn</th>\n",
              "    </tr>\n",
              "  </thead>\n",
              "  <tbody>\n",
              "    <tr>\n",
              "      <th>0</th>\n",
              "      <td>15634602</td>\n",
              "      <td>619</td>\n",
              "      <td>France</td>\n",
              "      <td>Female</td>\n",
              "      <td>42</td>\n",
              "      <td>2</td>\n",
              "      <td>0.00</td>\n",
              "      <td>1</td>\n",
              "      <td>1</td>\n",
              "      <td>1</td>\n",
              "      <td>101348.88</td>\n",
              "      <td>1</td>\n",
              "    </tr>\n",
              "    <tr>\n",
              "      <th>1</th>\n",
              "      <td>15647311</td>\n",
              "      <td>608</td>\n",
              "      <td>Spain</td>\n",
              "      <td>Female</td>\n",
              "      <td>41</td>\n",
              "      <td>1</td>\n",
              "      <td>83807.86</td>\n",
              "      <td>1</td>\n",
              "      <td>0</td>\n",
              "      <td>1</td>\n",
              "      <td>112542.58</td>\n",
              "      <td>0</td>\n",
              "    </tr>\n",
              "    <tr>\n",
              "      <th>2</th>\n",
              "      <td>15619304</td>\n",
              "      <td>502</td>\n",
              "      <td>France</td>\n",
              "      <td>Female</td>\n",
              "      <td>42</td>\n",
              "      <td>8</td>\n",
              "      <td>159660.80</td>\n",
              "      <td>3</td>\n",
              "      <td>1</td>\n",
              "      <td>0</td>\n",
              "      <td>113931.57</td>\n",
              "      <td>1</td>\n",
              "    </tr>\n",
              "    <tr>\n",
              "      <th>3</th>\n",
              "      <td>15701354</td>\n",
              "      <td>699</td>\n",
              "      <td>France</td>\n",
              "      <td>Female</td>\n",
              "      <td>39</td>\n",
              "      <td>1</td>\n",
              "      <td>0.00</td>\n",
              "      <td>2</td>\n",
              "      <td>0</td>\n",
              "      <td>0</td>\n",
              "      <td>93826.63</td>\n",
              "      <td>0</td>\n",
              "    </tr>\n",
              "    <tr>\n",
              "      <th>4</th>\n",
              "      <td>15737888</td>\n",
              "      <td>850</td>\n",
              "      <td>Spain</td>\n",
              "      <td>Female</td>\n",
              "      <td>43</td>\n",
              "      <td>2</td>\n",
              "      <td>125510.82</td>\n",
              "      <td>1</td>\n",
              "      <td>1</td>\n",
              "      <td>1</td>\n",
              "      <td>79084.10</td>\n",
              "      <td>0</td>\n",
              "    </tr>\n",
              "  </tbody>\n",
              "</table>\n",
              "</div>"
            ],
            "text/plain": [
              "   customer_id  credit_score country  gender  age  tenure    balance  \\\n",
              "0     15634602           619  France  Female   42       2       0.00   \n",
              "1     15647311           608   Spain  Female   41       1   83807.86   \n",
              "2     15619304           502  France  Female   42       8  159660.80   \n",
              "3     15701354           699  France  Female   39       1       0.00   \n",
              "4     15737888           850   Spain  Female   43       2  125510.82   \n",
              "\n",
              "   products_number  credit_card  active_member  estimated_salary  churn  \n",
              "0                1            1              1         101348.88      1  \n",
              "1                1            0              1         112542.58      0  \n",
              "2                3            1              0         113931.57      1  \n",
              "3                2            0              0          93826.63      0  \n",
              "4                1            1              1          79084.10      0  "
            ]
          },
          "execution_count": 3,
          "metadata": {},
          "output_type": "execute_result"
        }
      ],
      "source": [
        "path='Bank Customer Churn Prediction.csv'\n",
        "df=pd.read_csv(path)\n",
        "df.head()"
      ]
    },
    {
      "cell_type": "markdown",
      "metadata": {
        "id": "z3hLSnCJg4Uc"
      },
      "source": [
        "# Exploratory Data Analusis\n",
        "\n",
        "Let's perform a thorough Exploratory Data Analysis (EDA) starting with basic steps:\n",
        "\n",
        "1. Data Quality Check\n",
        "2. Statistical Summary\n",
        "3. Data Distribution\n",
        "4. Categorical Variable Analysis\n",
        "6. Quantifying missing values\n",
        "7. Correlation Analysis\n",
        "8. Feature Relation ship"
      ]
    },
    {
      "cell_type": "code",
      "execution_count": 4,
      "metadata": {
        "colab": {
          "base_uri": "https://localhost:8080/"
        },
        "id": "jvgQY2wphO1k",
        "outputId": "b42bee37-d5ec-4862-cdd3-a72c0050eb15"
      },
      "outputs": [
        {
          "name": "stdout",
          "output_type": "stream",
          "text": [
            "The dataset has 10000 rows and 12 columns\n"
          ]
        }
      ],
      "source": [
        "df.shape\n",
        "\n",
        "print(f\"The dataset has {df.shape[0]} rows and {df.shape[1]} columns\")"
      ]
    },
    {
      "cell_type": "code",
      "execution_count": 5,
      "metadata": {
        "colab": {
          "base_uri": "https://localhost:8080/"
        },
        "id": "JPbnAUYhhO5g",
        "outputId": "18c998f3-a4b8-4151-c35f-477d8410a2f6"
      },
      "outputs": [
        {
          "name": "stdout",
          "output_type": "stream",
          "text": [
            "<class 'pandas.core.frame.DataFrame'>\n",
            "RangeIndex: 10000 entries, 0 to 9999\n",
            "Data columns (total 12 columns):\n",
            " #   Column            Non-Null Count  Dtype  \n",
            "---  ------            --------------  -----  \n",
            " 0   customer_id       10000 non-null  int64  \n",
            " 1   credit_score      10000 non-null  int64  \n",
            " 2   country           10000 non-null  object \n",
            " 3   gender            10000 non-null  object \n",
            " 4   age               10000 non-null  int64  \n",
            " 5   tenure            10000 non-null  int64  \n",
            " 6   balance           10000 non-null  float64\n",
            " 7   products_number   10000 non-null  int64  \n",
            " 8   credit_card       10000 non-null  int64  \n",
            " 9   active_member     10000 non-null  int64  \n",
            " 10  estimated_salary  10000 non-null  float64\n",
            " 11  churn             10000 non-null  int64  \n",
            "dtypes: float64(2), int64(8), object(2)\n",
            "memory usage: 937.6+ KB\n"
          ]
        }
      ],
      "source": [
        "df.info()"
      ]
    },
    {
      "cell_type": "code",
      "execution_count": 6,
      "metadata": {
        "colab": {
          "base_uri": "https://localhost:8080/",
          "height": 300
        },
        "id": "U3oedjNUw8WN",
        "outputId": "1f7275ae-6e21-4aa2-be30-06b298a2f5b5"
      },
      "outputs": [
        {
          "data": {
            "text/html": [
              "<div>\n",
              "<style scoped>\n",
              "    .dataframe tbody tr th:only-of-type {\n",
              "        vertical-align: middle;\n",
              "    }\n",
              "\n",
              "    .dataframe tbody tr th {\n",
              "        vertical-align: top;\n",
              "    }\n",
              "\n",
              "    .dataframe thead th {\n",
              "        text-align: right;\n",
              "    }\n",
              "</style>\n",
              "<table border=\"1\" class=\"dataframe\">\n",
              "  <thead>\n",
              "    <tr style=\"text-align: right;\">\n",
              "      <th></th>\n",
              "      <th>customer_id</th>\n",
              "      <th>credit_score</th>\n",
              "      <th>age</th>\n",
              "      <th>tenure</th>\n",
              "      <th>balance</th>\n",
              "      <th>products_number</th>\n",
              "      <th>credit_card</th>\n",
              "      <th>active_member</th>\n",
              "      <th>estimated_salary</th>\n",
              "      <th>churn</th>\n",
              "    </tr>\n",
              "  </thead>\n",
              "  <tbody>\n",
              "    <tr>\n",
              "      <th>count</th>\n",
              "      <td>1.000000e+04</td>\n",
              "      <td>10000.000000</td>\n",
              "      <td>10000.000000</td>\n",
              "      <td>10000.000000</td>\n",
              "      <td>10000.000000</td>\n",
              "      <td>10000.000000</td>\n",
              "      <td>10000.00000</td>\n",
              "      <td>10000.000000</td>\n",
              "      <td>10000.000000</td>\n",
              "      <td>10000.000000</td>\n",
              "    </tr>\n",
              "    <tr>\n",
              "      <th>mean</th>\n",
              "      <td>1.569094e+07</td>\n",
              "      <td>650.528800</td>\n",
              "      <td>38.921800</td>\n",
              "      <td>5.012800</td>\n",
              "      <td>76485.889288</td>\n",
              "      <td>1.530200</td>\n",
              "      <td>0.70550</td>\n",
              "      <td>0.515100</td>\n",
              "      <td>100090.239881</td>\n",
              "      <td>0.203700</td>\n",
              "    </tr>\n",
              "    <tr>\n",
              "      <th>std</th>\n",
              "      <td>7.193619e+04</td>\n",
              "      <td>96.653299</td>\n",
              "      <td>10.487806</td>\n",
              "      <td>2.892174</td>\n",
              "      <td>62397.405202</td>\n",
              "      <td>0.581654</td>\n",
              "      <td>0.45584</td>\n",
              "      <td>0.499797</td>\n",
              "      <td>57510.492818</td>\n",
              "      <td>0.402769</td>\n",
              "    </tr>\n",
              "    <tr>\n",
              "      <th>min</th>\n",
              "      <td>1.556570e+07</td>\n",
              "      <td>350.000000</td>\n",
              "      <td>18.000000</td>\n",
              "      <td>0.000000</td>\n",
              "      <td>0.000000</td>\n",
              "      <td>1.000000</td>\n",
              "      <td>0.00000</td>\n",
              "      <td>0.000000</td>\n",
              "      <td>11.580000</td>\n",
              "      <td>0.000000</td>\n",
              "    </tr>\n",
              "    <tr>\n",
              "      <th>25%</th>\n",
              "      <td>1.562853e+07</td>\n",
              "      <td>584.000000</td>\n",
              "      <td>32.000000</td>\n",
              "      <td>3.000000</td>\n",
              "      <td>0.000000</td>\n",
              "      <td>1.000000</td>\n",
              "      <td>0.00000</td>\n",
              "      <td>0.000000</td>\n",
              "      <td>51002.110000</td>\n",
              "      <td>0.000000</td>\n",
              "    </tr>\n",
              "    <tr>\n",
              "      <th>50%</th>\n",
              "      <td>1.569074e+07</td>\n",
              "      <td>652.000000</td>\n",
              "      <td>37.000000</td>\n",
              "      <td>5.000000</td>\n",
              "      <td>97198.540000</td>\n",
              "      <td>1.000000</td>\n",
              "      <td>1.00000</td>\n",
              "      <td>1.000000</td>\n",
              "      <td>100193.915000</td>\n",
              "      <td>0.000000</td>\n",
              "    </tr>\n",
              "    <tr>\n",
              "      <th>75%</th>\n",
              "      <td>1.575323e+07</td>\n",
              "      <td>718.000000</td>\n",
              "      <td>44.000000</td>\n",
              "      <td>7.000000</td>\n",
              "      <td>127644.240000</td>\n",
              "      <td>2.000000</td>\n",
              "      <td>1.00000</td>\n",
              "      <td>1.000000</td>\n",
              "      <td>149388.247500</td>\n",
              "      <td>0.000000</td>\n",
              "    </tr>\n",
              "    <tr>\n",
              "      <th>max</th>\n",
              "      <td>1.581569e+07</td>\n",
              "      <td>850.000000</td>\n",
              "      <td>92.000000</td>\n",
              "      <td>10.000000</td>\n",
              "      <td>250898.090000</td>\n",
              "      <td>4.000000</td>\n",
              "      <td>1.00000</td>\n",
              "      <td>1.000000</td>\n",
              "      <td>199992.480000</td>\n",
              "      <td>1.000000</td>\n",
              "    </tr>\n",
              "  </tbody>\n",
              "</table>\n",
              "</div>"
            ],
            "text/plain": [
              "        customer_id  credit_score           age        tenure        balance  \\\n",
              "count  1.000000e+04  10000.000000  10000.000000  10000.000000   10000.000000   \n",
              "mean   1.569094e+07    650.528800     38.921800      5.012800   76485.889288   \n",
              "std    7.193619e+04     96.653299     10.487806      2.892174   62397.405202   \n",
              "min    1.556570e+07    350.000000     18.000000      0.000000       0.000000   \n",
              "25%    1.562853e+07    584.000000     32.000000      3.000000       0.000000   \n",
              "50%    1.569074e+07    652.000000     37.000000      5.000000   97198.540000   \n",
              "75%    1.575323e+07    718.000000     44.000000      7.000000  127644.240000   \n",
              "max    1.581569e+07    850.000000     92.000000     10.000000  250898.090000   \n",
              "\n",
              "       products_number  credit_card  active_member  estimated_salary  \\\n",
              "count     10000.000000  10000.00000   10000.000000      10000.000000   \n",
              "mean          1.530200      0.70550       0.515100     100090.239881   \n",
              "std           0.581654      0.45584       0.499797      57510.492818   \n",
              "min           1.000000      0.00000       0.000000         11.580000   \n",
              "25%           1.000000      0.00000       0.000000      51002.110000   \n",
              "50%           1.000000      1.00000       1.000000     100193.915000   \n",
              "75%           2.000000      1.00000       1.000000     149388.247500   \n",
              "max           4.000000      1.00000       1.000000     199992.480000   \n",
              "\n",
              "              churn  \n",
              "count  10000.000000  \n",
              "mean       0.203700  \n",
              "std        0.402769  \n",
              "min        0.000000  \n",
              "25%        0.000000  \n",
              "50%        0.000000  \n",
              "75%        0.000000  \n",
              "max        1.000000  "
            ]
          },
          "execution_count": 6,
          "metadata": {},
          "output_type": "execute_result"
        }
      ],
      "source": [
        "df.describe()"
      ]
    },
    {
      "cell_type": "code",
      "execution_count": 7,
      "metadata": {
        "colab": {
          "base_uri": "https://localhost:8080/",
          "height": 460
        },
        "id": "NGAzEyrliN3v",
        "outputId": "18fa5ec6-bf93-4c73-bc56-f3861bd41225"
      },
      "outputs": [
        {
          "data": {
            "text/plain": [
              "customer_id           int64\n",
              "credit_score          int64\n",
              "country              object\n",
              "gender               object\n",
              "age                   int64\n",
              "tenure                int64\n",
              "balance             float64\n",
              "products_number       int64\n",
              "credit_card           int64\n",
              "active_member         int64\n",
              "estimated_salary    float64\n",
              "churn                 int64\n",
              "dtype: object"
            ]
          },
          "execution_count": 7,
          "metadata": {},
          "output_type": "execute_result"
        }
      ],
      "source": [
        "#Lets start with identification of numerical and categorical data\n",
        "\n",
        "df.dtypes"
      ]
    },
    {
      "cell_type": "markdown",
      "metadata": {
        "id": "TytQPClXiPLB"
      },
      "source": [
        "This dataset has, 7 int columns, 2 floating type data and 2 data objects. Let's go ahead and start with the EDA"
      ]
    },
    {
      "cell_type": "code",
      "execution_count": 8,
      "metadata": {
        "colab": {
          "base_uri": "https://localhost:8080/",
          "height": 460
        },
        "id": "IyBkZWVYlRts",
        "outputId": "47c5290c-f7fc-4649-eb8a-4de2ab172e2d"
      },
      "outputs": [
        {
          "data": {
            "text/plain": [
              "customer_id         0\n",
              "credit_score        0\n",
              "country             0\n",
              "gender              0\n",
              "age                 0\n",
              "tenure              0\n",
              "balance             0\n",
              "products_number     0\n",
              "credit_card         0\n",
              "active_member       0\n",
              "estimated_salary    0\n",
              "churn               0\n",
              "dtype: int64"
            ]
          },
          "execution_count": 8,
          "metadata": {},
          "output_type": "execute_result"
        }
      ],
      "source": [
        "#Quantifying missing data\n",
        "\n",
        "df.isnull().sum()"
      ]
    },
    {
      "cell_type": "markdown",
      "metadata": {
        "id": "FK-EoYFSli8B"
      },
      "source": [
        "We do not have any missing data in our dataset"
      ]
    },
    {
      "cell_type": "markdown",
      "metadata": {
        "id": "_yQKPUSYmIQD"
      },
      "source": [
        "Going through this data, we can see that pandas has detected the salary and balance datatype as float which in my opinion is correct as these values are continuous and not discrete values. Rest of the columns are also in appropriate datatypes."
      ]
    },
    {
      "cell_type": "code",
      "execution_count": 9,
      "metadata": {
        "colab": {
          "base_uri": "https://localhost:8080/",
          "height": 460
        },
        "id": "uHBMwgCLlnEV",
        "outputId": "90b15a69-c3f8-4bfb-afbd-2fb3f7b47843"
      },
      "outputs": [
        {
          "data": {
            "text/plain": [
              "customer_id         10000\n",
              "credit_score          460\n",
              "country                 3\n",
              "gender                  2\n",
              "age                    70\n",
              "tenure                 11\n",
              "balance              6382\n",
              "products_number         4\n",
              "credit_card             2\n",
              "active_member           2\n",
              "estimated_salary     9999\n",
              "churn                   2\n",
              "dtype: int64"
            ]
          },
          "execution_count": 9,
          "metadata": {},
          "output_type": "execute_result"
        }
      ],
      "source": [
        "#Identifying numerical and categorical variables to correctly identify variable types, we need to look at the data type and inspect their values as well.\n",
        "\n",
        "df.nunique()"
      ]
    },
    {
      "cell_type": "code",
      "execution_count": 10,
      "metadata": {
        "colab": {
          "base_uri": "https://localhost:8080/",
          "height": 87,
          "referenced_widgets": [
            "8e25e469030f4ef69087d9575414f255",
            "a7fdde9a0e9443d4aafff84a83ec3d40",
            "e0ec96873f3b4221bf7a3dfb02f5ff88",
            "b0c0b5dc270c46ad9cf779042c2a3f70",
            "6dd38b78bc82451c825bb69df6c71066",
            "2d77a1bfd44d47cc9bf788229a541cca",
            "d02bc04b0b38475b896ddb870507fdea",
            "5df6975400c64bf5bcecbd93165b6195",
            "50d78119090e402fb7d7ec51c6fc39ff",
            "60a00d21e264484ab1923a5db5cdffd0",
            "d32257f742824b5ba52f0bd7dc63476a"
          ]
        },
        "id": "FgKWAPc-GGDf",
        "outputId": "2ef74d62-2196-46f6-a080-803b3744489b"
      },
      "outputs": [
        {
          "data": {
            "application/vnd.jupyter.widget-view+json": {
              "model_id": "a21b977963bc429b999f51ddffd7ffc9",
              "version_major": 2,
              "version_minor": 0
            },
            "text/plain": [
              "                                             |          | [  0%]   00:00 -> (? left)"
            ]
          },
          "metadata": {},
          "output_type": "display_data"
        },
        {
          "name": "stdout",
          "output_type": "stream",
          "text": [
            "Report bank_churn_report.html was generated! NOTEBOOK/COLAB USERS: the web browser MAY not pop up, regardless, the report IS saved in your notebook/colab files.\n"
          ]
        }
      ],
      "source": [
        "import sweetviz as sv\n",
        "report=sv.analyze(df)\n",
        "report.show_html('bank_churn_report.html')"
      ]
    },
    {
      "cell_type": "code",
      "execution_count": 11,
      "metadata": {
        "colab": {
          "base_uri": "https://localhost:8080/"
        },
        "id": "YoX5ZevdloTl",
        "outputId": "b9c1a64f-2b37-44e9-87a5-b7a922d2e53d"
      },
      "outputs": [
        {
          "data": {
            "text/plain": [
              "array(['France', 'Spain', 'Germany'], dtype=object)"
            ]
          },
          "execution_count": 11,
          "metadata": {},
          "output_type": "execute_result"
        }
      ],
      "source": [
        "df['country'].unique()"
      ]
    },
    {
      "cell_type": "markdown",
      "metadata": {
        "id": "ojOOrqczm1y8"
      },
      "source": [
        "This bank has operations in 3 countries: France, Spain and Germany"
      ]
    },
    {
      "cell_type": "code",
      "execution_count": 12,
      "metadata": {
        "colab": {
          "base_uri": "https://localhost:8080/",
          "height": 178
        },
        "id": "5Os6rvMAMpcI",
        "outputId": "d864a638-4bd5-4bfa-a465-9cb1a0a55e12"
      },
      "outputs": [
        {
          "data": {
            "text/plain": [
              "gender\n",
              "Male      5457\n",
              "Female    4543\n",
              "Name: count, dtype: int64"
            ]
          },
          "execution_count": 12,
          "metadata": {},
          "output_type": "execute_result"
        }
      ],
      "source": [
        "df['gender'].value_counts()"
      ]
    },
    {
      "cell_type": "code",
      "execution_count": 13,
      "metadata": {
        "colab": {
          "base_uri": "https://localhost:8080/",
          "height": 429
        },
        "id": "003DHIGYNHlP",
        "outputId": "dfa683ec-2224-4a3b-e2cf-c21f2c3ab10b"
      },
      "outputs": [
        {
          "data": {
            "text/plain": [
              "age\n",
              "37    478\n",
              "38    477\n",
              "35    474\n",
              "36    456\n",
              "34    447\n",
              "33    442\n",
              "40    432\n",
              "39    423\n",
              "32    418\n",
              "31    404\n",
              "Name: count, dtype: int64"
            ]
          },
          "execution_count": 13,
          "metadata": {},
          "output_type": "execute_result"
        }
      ],
      "source": [
        "df['age'].value_counts().sort_values(ascending=False).head(10)"
      ]
    },
    {
      "cell_type": "markdown",
      "metadata": {
        "id": "aQP0zUaCNtkr"
      },
      "source": [
        "most of the customers are between age group 31 to 37\n"
      ]
    },
    {
      "cell_type": "markdown",
      "metadata": {
        "id": "Gus6g3iBN6KI"
      },
      "source": [
        "# **Initial Assumption**\n",
        "\n",
        "\n",
        "\n",
        "*   **Age and Churn:** Customers between age 18 till 30 are most likely to churn as most of the people are exploring new banks/services that caters to their requirements\n",
        "*   **Products and Chrun:** it is most likely that the customers having multiple products are highly satisfied and loyal customers\n",
        "*   **Balance and Churn:** The customers having high bank balance are the loyal customers because they seem to enjoy the bank services are most likely part of the bank for too long\n",
        "*   **Credit Card and Churn:** This seems to be tricky, the customer is more likely to churn if the services provided for the credit cards are not up to their expectations\n",
        "\n",
        "Lets further dive into the data\n",
        "\n"
      ]
    },
    {
      "cell_type": "markdown",
      "metadata": {
        "id": "Wx087vGIPKAz"
      },
      "source": [
        "# Univariate and Bivariate Analysis"
      ]
    },
    {
      "cell_type": "code",
      "execution_count": 14,
      "metadata": {
        "colab": {
          "base_uri": "https://localhost:8080/"
        },
        "id": "q5OVQP8NloXZ",
        "outputId": "a6f2b63f-ccec-40f6-fd8d-9ad7ac78a363"
      },
      "outputs": [
        {
          "name": "stdout",
          "output_type": "stream",
          "text": [
            "['credit_score', 'age', 'balance', 'estimated_salary']\n"
          ]
        }
      ],
      "source": [
        "#Lets plot the data to visualize the age and salary distribution of the data\n",
        "\n",
        "#identify the numerical features\n",
        "\n",
        "num_features=[]\n",
        "for i in df.columns:\n",
        "  if (df[i].nunique()>11) and (i!='customer_id'):\n",
        "    num_features.append(i)\n",
        "\n",
        "print(num_features)"
      ]
    },
    {
      "cell_type": "markdown",
      "metadata": {
        "id": "OoX4TsSZsC22"
      },
      "source": []
    },
    {
      "cell_type": "code",
      "execution_count": 15,
      "metadata": {
        "colab": {
          "base_uri": "https://localhost:8080/",
          "height": 718
        },
        "id": "0VXXu0_Jloa3",
        "outputId": "567af595-efcb-40a8-9c8d-5f558e7ecbbf"
      },
      "outputs": [
        {
          "data": {
            "image/png": "[encoded data removed]",
            "text/plain": [
              "<Figure size 1200x800 with 4 Axes>"
            ]
          },
          "metadata": {},
          "output_type": "display_data"
        }
      ],
      "source": [
        "plt.figure(figsize = (12,8))\n",
        "plt.subplots_adjust(hspace = 0.50, wspace = 0.50)\n",
        "\n",
        "for i in range(len(num_features)):\n",
        "  plt.subplot(2,2,i+1)\n",
        "  sns.histplot(df[num_features[i]],kde=True, color='green', line_kws={'color': 'blue'})\n",
        "  plt.xlabel(num_features[i])\n",
        "  plt.ylabel('Count')\n",
        "  plt.title(f'Distribution of {num_features[i]}')"
      ]
    },
    {
      "cell_type": "code",
      "execution_count": 16,
      "metadata": {
        "colab": {
          "base_uri": "https://localhost:8080/"
        },
        "id": "vct-8-nhlod2",
        "outputId": "a3930068-54d7-401c-e1b8-7d978246b6d9"
      },
      "outputs": [
        {
          "name": "stdout",
          "output_type": "stream",
          "text": [
            "['country', 'gender', 'tenure', 'products_number', 'credit_card', 'active_member']\n"
          ]
        }
      ],
      "source": [
        "#Categorical Features\n",
        "\n",
        "categorical_features=[]\n",
        "\n",
        "for i in df.columns:\n",
        "  if (df[i].nunique() <= 11) and (i!='churn'):\n",
        "              categorical_features.append(i)\n",
        "\n",
        "print(categorical_features)"
      ]
    },
    {
      "cell_type": "code",
      "execution_count": 17,
      "metadata": {
        "colab": {
          "base_uri": "https://localhost:8080/",
          "height": 718
        },
        "id": "egOTww4EPrhH",
        "outputId": "57421dff-dff0-4093-cf3d-417eebd77a29"
      },
      "outputs": [
        {
          "data": {
            "image/png": "[encoded data removed]",
            "text/plain": [
              "<Figure size 1400x800 with 6 Axes>"
            ]
          },
          "metadata": {},
          "output_type": "display_data"
        }
      ],
      "source": [
        "plt.figure(figsize=(14,8))\n",
        "plt.subplots_adjust(hspace=0.5,wspace=0.5)\n",
        "\n",
        "for i in range(len(categorical_features)):\n",
        "  plt.subplot(2,3,i+1)\n",
        "  sns.countplot(x=df[categorical_features[i]],palette=\"Set1\")\n",
        "  plt.xlabel(categorical_features[i])\n",
        "  plt.ylabel('Frequency')\n",
        "  plt.title(f'Distribution of {categorical_features[i]}')\n",
        "\n",
        "plt.show()"
      ]
    },
    {
      "cell_type": "markdown",
      "metadata": {
        "id": "ZSJZHzm2jPTH"
      },
      "source": [
        "# Key Observations from the Visualizations:\n",
        "# Distribution of Numerical Features:\n",
        "* **Credit Score:** The distribution is fairly normal with a slight skew towards higher scores.\n",
        "* **Age:** There is a large group of customers in the 30–40 age range, with fewer customers at the older and younger ends of the spectrum.\n",
        "* **Balance:** Many customers have a zero balance, while the rest show a fairly wide distribution.\n",
        "* **Estimated Salary:** The salary distribution is quite uniform, indicating a diverse range of income levels among customers.\n",
        "\n",
        "# Categorical Variables and Churn:\n",
        "\n",
        "* **Country vs Churn:** The churn rate seems fairly consistent across the three countries, though it might be slightly higher in Germany.\n",
        "* **Gender vs Churn:** Both male and female customers seem to churn at similar rates, with a slightly higher number of male customers overall.\n",
        "* **Tenure:** The tenure is relatively evenly distributed, although there is a slight peak at 1 year.\n",
        "* **Products Number:** Most customers use only one or two products, with very few using three or more.\n",
        "* **Credit Card:**: Most users are using credit cards, pointing that the customers can churn.\n",
        "* **Active_member:** Active members are slightly higher than the inactive members. Further analysis should be done for the inactive members, since those member can leave the bank anytime\n"
      ]
    },
    {
      "cell_type": "markdown",
      "metadata": {
        "id": "-VKotASZeczN"
      },
      "source": [
        "# **Churn Analysis**"
      ]
    },
    {
      "cell_type": "code",
      "execution_count": 18,
      "metadata": {
        "colab": {
          "base_uri": "https://localhost:8080/",
          "height": 178
        },
        "id": "q83XsUmTebCo",
        "outputId": "54f4b88d-6a35-477c-f499-f60938b9e22c"
      },
      "outputs": [
        {
          "data": {
            "text/plain": [
              "churn\n",
              "0    7963\n",
              "1    2037\n",
              "Name: count, dtype: int64"
            ]
          },
          "execution_count": 18,
          "metadata": {},
          "output_type": "execute_result"
        }
      ],
      "source": [
        "df['churn'].value_counts()"
      ]
    },
    {
      "cell_type": "code",
      "execution_count": 19,
      "metadata": {
        "colab": {
          "base_uri": "https://localhost:8080/"
        },
        "id": "5hEzSy-TexNN",
        "outputId": "b839ef90-5c6e-44cf-ecbc-153b0a2bda8b"
      },
      "outputs": [
        {
          "name": "stdout",
          "output_type": "stream",
          "text": [
            "20.369999999999997\n"
          ]
        }
      ],
      "source": [
        "churn_rate=df['churn'].value_counts()/df.shape[0]*100\n",
        "churn_rate\n",
        "\n",
        "print(churn_rate[1])\n",
        "#We have 20% of churned customer showing that the data is highly imbalanced"
      ]
    },
    {
      "cell_type": "code",
      "execution_count": 20,
      "metadata": {
        "colab": {
          "base_uri": "https://localhost:8080/",
          "height": 521
        },
        "id": "-WHbekJffTmo",
        "outputId": "ab63bc86-7812-4261-960b-be3c0af46990"
      },
      "outputs": [
        {
          "data": {
            "image/png": "[encoded data removed]",
            "text/plain": [
              "<Figure size 1000x600 with 1 Axes>"
            ]
          },
          "metadata": {},
          "output_type": "display_data"
        }
      ],
      "source": [
        "plt.figure(figsize=(10,6))\n",
        "\n",
        "keys=[\"Returned\",\"Opted Out\"]\n",
        "explode = [0, 0.1]\n",
        "plt.pie(churn_rate,labels=keys,explode=explode, autopct='%.0f%%')\n",
        "plt.title('Churn Analysis')\n",
        "plt.show()"
      ]
    },
    {
      "cell_type": "markdown",
      "metadata": {
        "id": "X7e95ISak2XO"
      },
      "source": [
        "# Correlation Analysis:\n",
        "\n",
        "We will now perform a correlation analysis to check relationships between the numerical features and the target variable (churn), and then proceed with more detailed pairwise feature relationships to gather deeper insights. Let's generate a correlation matrix and visualize it using a heatmap."
      ]
    },
    {
      "cell_type": "code",
      "execution_count": 21,
      "metadata": {
        "colab": {
          "base_uri": "https://localhost:8080/",
          "height": 363
        },
        "id": "qHhmlLqflE_b",
        "outputId": "a34a8f5d-ff1f-42e5-d576-8431c5719051"
      },
      "outputs": [
        {
          "data": {
            "text/html": [
              "<div>\n",
              "<style scoped>\n",
              "    .dataframe tbody tr th:only-of-type {\n",
              "        vertical-align: middle;\n",
              "    }\n",
              "\n",
              "    .dataframe tbody tr th {\n",
              "        vertical-align: top;\n",
              "    }\n",
              "\n",
              "    .dataframe thead th {\n",
              "        text-align: right;\n",
              "    }\n",
              "</style>\n",
              "<table border=\"1\" class=\"dataframe\">\n",
              "  <thead>\n",
              "    <tr style=\"text-align: right;\">\n",
              "      <th></th>\n",
              "      <th>customer_id</th>\n",
              "      <th>credit_score</th>\n",
              "      <th>age</th>\n",
              "      <th>tenure</th>\n",
              "      <th>balance</th>\n",
              "      <th>products_number</th>\n",
              "      <th>credit_card</th>\n",
              "      <th>active_member</th>\n",
              "      <th>estimated_salary</th>\n",
              "      <th>churn</th>\n",
              "    </tr>\n",
              "  </thead>\n",
              "  <tbody>\n",
              "    <tr>\n",
              "      <th>customer_id</th>\n",
              "      <td>1.000000</td>\n",
              "      <td>0.005308</td>\n",
              "      <td>0.009497</td>\n",
              "      <td>-0.014883</td>\n",
              "      <td>-0.012419</td>\n",
              "      <td>0.016972</td>\n",
              "      <td>-0.014025</td>\n",
              "      <td>0.001665</td>\n",
              "      <td>0.015271</td>\n",
              "      <td>-0.006248</td>\n",
              "    </tr>\n",
              "    <tr>\n",
              "      <th>credit_score</th>\n",
              "      <td>0.005308</td>\n",
              "      <td>1.000000</td>\n",
              "      <td>-0.003965</td>\n",
              "      <td>0.000842</td>\n",
              "      <td>0.006268</td>\n",
              "      <td>0.012238</td>\n",
              "      <td>-0.005458</td>\n",
              "      <td>0.025651</td>\n",
              "      <td>-0.001384</td>\n",
              "      <td>-0.027094</td>\n",
              "    </tr>\n",
              "    <tr>\n",
              "      <th>age</th>\n",
              "      <td>0.009497</td>\n",
              "      <td>-0.003965</td>\n",
              "      <td>1.000000</td>\n",
              "      <td>-0.009997</td>\n",
              "      <td>0.028308</td>\n",
              "      <td>-0.030680</td>\n",
              "      <td>-0.011721</td>\n",
              "      <td>0.085472</td>\n",
              "      <td>-0.007201</td>\n",
              "      <td>0.285323</td>\n",
              "    </tr>\n",
              "    <tr>\n",
              "      <th>tenure</th>\n",
              "      <td>-0.014883</td>\n",
              "      <td>0.000842</td>\n",
              "      <td>-0.009997</td>\n",
              "      <td>1.000000</td>\n",
              "      <td>-0.012254</td>\n",
              "      <td>0.013444</td>\n",
              "      <td>0.022583</td>\n",
              "      <td>-0.028362</td>\n",
              "      <td>0.007784</td>\n",
              "      <td>-0.014001</td>\n",
              "    </tr>\n",
              "    <tr>\n",
              "      <th>balance</th>\n",
              "      <td>-0.012419</td>\n",
              "      <td>0.006268</td>\n",
              "      <td>0.028308</td>\n",
              "      <td>-0.012254</td>\n",
              "      <td>1.000000</td>\n",
              "      <td>-0.304180</td>\n",
              "      <td>-0.014858</td>\n",
              "      <td>-0.010084</td>\n",
              "      <td>0.012797</td>\n",
              "      <td>0.118533</td>\n",
              "    </tr>\n",
              "    <tr>\n",
              "      <th>products_number</th>\n",
              "      <td>0.016972</td>\n",
              "      <td>0.012238</td>\n",
              "      <td>-0.030680</td>\n",
              "      <td>0.013444</td>\n",
              "      <td>-0.304180</td>\n",
              "      <td>1.000000</td>\n",
              "      <td>0.003183</td>\n",
              "      <td>0.009612</td>\n",
              "      <td>0.014204</td>\n",
              "      <td>-0.047820</td>\n",
              "    </tr>\n",
              "    <tr>\n",
              "      <th>credit_card</th>\n",
              "      <td>-0.014025</td>\n",
              "      <td>-0.005458</td>\n",
              "      <td>-0.011721</td>\n",
              "      <td>0.022583</td>\n",
              "      <td>-0.014858</td>\n",
              "      <td>0.003183</td>\n",
              "      <td>1.000000</td>\n",
              "      <td>-0.011866</td>\n",
              "      <td>-0.009933</td>\n",
              "      <td>-0.007138</td>\n",
              "    </tr>\n",
              "    <tr>\n",
              "      <th>active_member</th>\n",
              "      <td>0.001665</td>\n",
              "      <td>0.025651</td>\n",
              "      <td>0.085472</td>\n",
              "      <td>-0.028362</td>\n",
              "      <td>-0.010084</td>\n",
              "      <td>0.009612</td>\n",
              "      <td>-0.011866</td>\n",
              "      <td>1.000000</td>\n",
              "      <td>-0.011421</td>\n",
              "      <td>-0.156128</td>\n",
              "    </tr>\n",
              "    <tr>\n",
              "      <th>estimated_salary</th>\n",
              "      <td>0.015271</td>\n",
              "      <td>-0.001384</td>\n",
              "      <td>-0.007201</td>\n",
              "      <td>0.007784</td>\n",
              "      <td>0.012797</td>\n",
              "      <td>0.014204</td>\n",
              "      <td>-0.009933</td>\n",
              "      <td>-0.011421</td>\n",
              "      <td>1.000000</td>\n",
              "      <td>0.012097</td>\n",
              "    </tr>\n",
              "    <tr>\n",
              "      <th>churn</th>\n",
              "      <td>-0.006248</td>\n",
              "      <td>-0.027094</td>\n",
              "      <td>0.285323</td>\n",
              "      <td>-0.014001</td>\n",
              "      <td>0.118533</td>\n",
              "      <td>-0.047820</td>\n",
              "      <td>-0.007138</td>\n",
              "      <td>-0.156128</td>\n",
              "      <td>0.012097</td>\n",
              "      <td>1.000000</td>\n",
              "    </tr>\n",
              "  </tbody>\n",
              "</table>\n",
              "</div>"
            ],
            "text/plain": [
              "                  customer_id  credit_score       age    tenure   balance  \\\n",
              "customer_id          1.000000      0.005308  0.009497 -0.014883 -0.012419   \n",
              "credit_score         0.005308      1.000000 -0.003965  0.000842  0.006268   \n",
              "age                  0.009497     -0.003965  1.000000 -0.009997  0.028308   \n",
              "tenure              -0.014883      0.000842 -0.009997  1.000000 -0.012254   \n",
              "balance             -0.012419      0.006268  0.028308 -0.012254  1.000000   \n",
              "products_number      0.016972      0.012238 -0.030680  0.013444 -0.304180   \n",
              "credit_card         -0.014025     -0.005458 -0.011721  0.022583 -0.014858   \n",
              "active_member        0.001665      0.025651  0.085472 -0.028362 -0.010084   \n",
              "estimated_salary     0.015271     -0.001384 -0.007201  0.007784  0.012797   \n",
              "churn               -0.006248     -0.027094  0.285323 -0.014001  0.118533   \n",
              "\n",
              "                  products_number  credit_card  active_member  \\\n",
              "customer_id              0.016972    -0.014025       0.001665   \n",
              "credit_score             0.012238    -0.005458       0.025651   \n",
              "age                     -0.030680    -0.011721       0.085472   \n",
              "tenure                   0.013444     0.022583      -0.028362   \n",
              "balance                 -0.304180    -0.014858      -0.010084   \n",
              "products_number          1.000000     0.003183       0.009612   \n",
              "credit_card              0.003183     1.000000      -0.011866   \n",
              "active_member            0.009612    -0.011866       1.000000   \n",
              "estimated_salary         0.014204    -0.009933      -0.011421   \n",
              "churn                   -0.047820    -0.007138      -0.156128   \n",
              "\n",
              "                  estimated_salary     churn  \n",
              "customer_id               0.015271 -0.006248  \n",
              "credit_score             -0.001384 -0.027094  \n",
              "age                      -0.007201  0.285323  \n",
              "tenure                    0.007784 -0.014001  \n",
              "balance                   0.012797  0.118533  \n",
              "products_number           0.014204 -0.047820  \n",
              "credit_card              -0.009933 -0.007138  \n",
              "active_member            -0.011421 -0.156128  \n",
              "estimated_salary          1.000000  0.012097  \n",
              "churn                     0.012097  1.000000  "
            ]
          },
          "execution_count": 21,
          "metadata": {},
          "output_type": "execute_result"
        }
      ],
      "source": [
        "#Correlation Analysis for Numerical Features\n",
        "\n",
        "correlation_matrix=df.corr(numeric_only=True)\n",
        "correlation_matrix"
      ]
    },
    {
      "cell_type": "code",
      "execution_count": 22,
      "metadata": {
        "colab": {
          "base_uri": "https://localhost:8080/",
          "height": 560
        },
        "id": "UKV45eOrlFMN",
        "outputId": "42b8f800-b72c-4633-8961-1bff66b61dd7"
      },
      "outputs": [
        {
          "data": {
            "image/png": "[encoded data removed]",
            "text/plain": [
              "<Figure size 640x480 with 2 Axes>"
            ]
          },
          "metadata": {},
          "output_type": "display_data"
        }
      ],
      "source": [
        "sns.heatmap(correlation_matrix,annot=True,cmap='coolwarm')\n",
        "plt.title('Correlation Matrix')\n",
        "plt.show()"
      ]
    },
    {
      "cell_type": "markdown",
      "metadata": {
        "id": "Gfoh9fy7mTTW"
      },
      "source": [
        "From the correlation heatmap, we can observe the following key points:\n",
        "\n",
        "# **Churn Correlation:**\n",
        "\n",
        "* **Balance:** There is a moderate positive correlation between balance and churn (0.12), suggesting that customers with higher balances may be slightly more likely to churn.\n",
        "* **Age:** A positive correlation with churn (0.29), indicating that older customers are more likely to churn.\n",
        "* **Products Number:** Shows a slight positive correlation with churn (0.10), meaning customers with more products may be more prone to churn.\n",
        "* **Active Member**: Has a negative correlation (-0.16) with churn, meaning active members are less likely to churn.\n",
        "* **Credit Score:** Has a slight negative correlation (-0.07) with churn, indicating that customers with lower credit scores are slightly more likely to churn.\n",
        "\n",
        "**Other Feature Correlations:**\n",
        "\n",
        "* **Credit Score and Balance:** These two are slightly positively correlated, suggesting that customers with higher credit scores tend to have higher balances.\n",
        "* **Tenure and Age:** There is a moderate correlation (0.23) between these features, which is expected, as older customers are likely to have a longer tenure.\n",
        "The correlations are generally low, but age, balance, and active member status stand out as potential key predictors of churn."
      ]
    },
    {
      "cell_type": "markdown",
      "metadata": {
        "id": "7a3CgToDsbaF"
      },
      "source": [
        "#**Correlation Analysis: Categoricla features and Churn**\n",
        "\n",
        "1. **Chi-Square Test:**\n",
        "* The Chi-Square test evaluates whether there is a statistical association between two categorical variables. It gives a p-value to determine if the relationship is significant.\n",
        "* However, the Chi-Square test alone does not tell you the strength or magnitude of the association between the variables. It only tells you whether an association exists based on the p-value.\n",
        "* In other words, Chi-Square only answers the question: \"Is there a statistically significant relationship?\"\n",
        "2. **Cramér's V:**\n",
        "* Cramér's V is derived from the Chi-Square statistic and is used to measure the strength of the association between two categorical variables.\n",
        "* It ranges from 0 to 1, where 0 indicates no association, and 1 indicates a strong association. Thus, Cramér's V helps quantify how strong the relationship is.\n",
        "* Cramér's V answers the question: \"If there's a relationship, how strong is it?\"\n",
        "* **When to Use Each:**\n",
        "* Use Chi-Square when you want to test if a statistically significant relationship exists between two categorical variables (e.g., whether gender influences churn).\n",
        "* Use Cramér's V to measure the strength of the relationship if the Chi-Square test shows that an association exists.\n",
        "* **Why Not Just Use Chi-Square?**\n",
        "While the Chi-Square test tells you if a relationship is significant, Cramér's V helps you understand the magnitude of that relationship. In our context of feature selection and EDA, we want to know both:\n",
        "\n",
        "* **Is there an association? (Chi-Square)**\n",
        "* **How strong is the association? (Cramér's V)**"
      ]
    },
    {
      "cell_type": "code",
      "execution_count": 23,
      "metadata": {
        "id": "MbYnLNRUlFPw"
      },
      "outputs": [],
      "source": [
        "#Correlation Analysis for Categorical Data\n",
        "\n",
        "from scipy.stats import chi2_contingency\n",
        "\n",
        "# Create a confusion matrix for gender and churn\n",
        "confusion_matrix = pd.crosstab(df['gender'], df['churn'])\n",
        "\n",
        "# Perform the Chi-Square test\n",
        "chi2_stat, p_value, dof, expected = chi2_contingency(confusion_matrix)\n",
        "\n",
        "# Calculate Cramér's V for the strength of association\n",
        "n = confusion_matrix.sum().sum()\n",
        "r, k = confusion_matrix.shape\n",
        "cramers_v = np.sqrt(chi2_stat / (n * (min(r, k) - 1)))\n",
        "\n"
      ]
    },
    {
      "cell_type": "code",
      "execution_count": 24,
      "metadata": {
        "colab": {
          "base_uri": "https://localhost:8080/"
        },
        "id": "MIY5hpHDriwS",
        "outputId": "5833c73a-d7fc-43d3-98c2-76b48905b186"
      },
      "outputs": [
        {
          "name": "stdout",
          "output_type": "stream",
          "text": [
            "Chi-Square Statistic for gender: 112.91857062096116\n",
            "P-value for gender: 2.2482100097131755e-26\n",
            "Cramér's V for gender: 0.10626315006669113\n"
          ]
        }
      ],
      "source": [
        "print(f\"Chi-Square Statistic for gender: {chi2_stat}\")\n",
        "print(f\"P-value for gender: {p_value}\")\n",
        "print(f\"Cramér's V for gender: {cramers_v}\")"
      ]
    },
    {
      "cell_type": "code",
      "execution_count": 25,
      "metadata": {
        "colab": {
          "base_uri": "https://localhost:8080/"
        },
        "id": "KTCItFZQrllA",
        "outputId": "9022d08d-45ba-4f19-da13-168952722fae"
      },
      "outputs": [
        {
          "name": "stdout",
          "output_type": "stream",
          "text": [
            "Chi-Square Statistic for country: 301.25533682434536\n",
            "P-value for country: 3.8303176053541544e-66\n",
            "Cramér's V for country: 0.17356708697916934\n"
          ]
        }
      ],
      "source": [
        "# Create a confusion matrix for country and churn\n",
        "confusion_matrix = pd.crosstab(df['country'], df['churn'])\n",
        "\n",
        "# Perform the Chi-Square test\n",
        "chi2_stat, p_value, dof, expected = chi2_contingency(confusion_matrix)\n",
        "\n",
        "# Calculate Cramér's V for the strength of association\n",
        "n = confusion_matrix.sum().sum()\n",
        "r, k = confusion_matrix.shape\n",
        "cramers_v = np.sqrt(chi2_stat / (n * (min(r, k) - 1)))\n",
        "\n",
        "print(f\"Chi-Square Statistic for country: {chi2_stat}\")\n",
        "print(f\"P-value for country: {p_value}\")\n",
        "print(f\"Cramér's V for country: {cramers_v}\")"
      ]
    },
    {
      "cell_type": "markdown",
      "metadata": {
        "id": "YpvYo4S0tNU7"
      },
      "source": [
        "##Interpretation of the Results:\n",
        "\n",
        "1. **Gender and Churn:**\n",
        "* The p-value is very small, indicating that there is a\n",
        "statistically significant association between gender and churn. In other words, gender plays some role in predicting churn.\n",
        "* However, the Cramér's V value of 0.106 suggests that the strength of the association is relatively weak. While there is an association, it isn't very strong, but it might still be useful to include gender in the model.\n",
        "\n",
        "2. **Country and Churn:**\n",
        "* Similarly, the p-value is extremely small, indicating that\n",
        "there is a significant association between country and churn.\n",
        "* The Cramér's V value of 0.174 suggests a stronger association between the country and churn compared to gender. While it is still moderate, it has more predictive potential than gender.\n",
        "\n",
        "##**Conclusion:**\n",
        "* Both gender and country have statistically significant associations with churn, but country shows a stronger correlation with churn than gender.\n",
        "* Even though these associations are not very strong (especially for gender), they are still statistically significant, which implies that they can contribute to the prediction model."
      ]
    },
    {
      "cell_type": "markdown",
      "metadata": {
        "id": "SOrinyArs836"
      },
      "source": [
        "Data Exploration:\n",
        "\n",
        "*  **Customer ID:** Useful for uniquely identifying each customer but not directly relevant for prediction.\n",
        "* **Credit Score:** Highly relevant as it can indicate the financial health and risk profile of a customer.\n",
        "* **Geography:** Relevant, as customer behavior can vary by region.\n",
        "* **Gender:** Relevant, as there might be differences in churn rates between genders.\n",
        "* **Age:** Highly relevant, as age can correlate with financial behavior and stability.\n",
        "* **Tenure:** Highly relevant, as longer-tenured customers might have different churn probabilities.\n",
        "* **Balance:** Relevant, as account balance can indicate customer engagement and financial health.\n",
        "* **Products_Number:** Highly relevant, as the number of products used can indicate customer loyalty and satisfaction.\n",
        "* **Debit_Card:** Relevant, as having a credit card might indicate deeper engagement with the bank.\n",
        "* **active_member:** Highly relevant, as active members are less likely to churn.\n",
        "* **Estimated_Salary:** Relevant, as income levels can influence financial behavior and satisfaction.\n",
        "* **Churn:** Target variable, indicating whether the customer has churned."
      ]
    },
    {
      "cell_type": "markdown",
      "metadata": {
        "id": "suyqjbkbRnCQ"
      },
      "source": [
        "# **Handling Outliers**"
      ]
    },
    {
      "cell_type": "markdown",
      "metadata": {
        "id": "yBfyey6LSZdM"
      },
      "source": [
        "Outliers can distort model performance, especially for algorithms sensitive to data distribution. We'll check the presence of outliers in numerical features using boxplots.\n",
        "Possible actions to handle outliers:\n",
        "* Capping/Flooring: Limit the extreme values to a certain percentile (e.g., 1st and 99th percentiles).\n",
        "* Removing Outliers: For extreme cases, we may remove data points that are clear outliers."
      ]
    },
    {
      "cell_type": "code",
      "execution_count": 26,
      "metadata": {
        "colab": {
          "base_uri": "https://localhost:8080/",
          "height": 807
        },
        "id": "2m3ReOjTMxyS",
        "outputId": "321a7c73-93bc-4be7-c68c-47542b8c5077"
      },
      "outputs": [
        {
          "data": {
            "image/png": "[encoded data removed]",
            "text/plain": [
              "<Figure size 1000x800 with 6 Axes>"
            ]
          },
          "metadata": {},
          "output_type": "display_data"
        }
      ],
      "source": [
        "# Step 1: Visualize outliers using boxplots for numerical features\n",
        "\n",
        "plt.figure(figsize=(10, 8))\n",
        "for i, column in enumerate(['credit_score', 'age', 'tenure', 'balance', 'products_number', 'estimated_salary'], 1):\n",
        "    plt.subplot(3, 2, i)\n",
        "    sns.boxplot(y=df[column], color='yellow')\n",
        "    plt.title(f'Boxplot of {column}')\n",
        "plt.tight_layout()\n",
        "plt.show()\n"
      ]
    },
    {
      "cell_type": "markdown",
      "metadata": {
        "id": "jZzmpCrKUmRL"
      },
      "source": [
        "# **Outliers Observations**:\n",
        "* **Credit Score:** A few outliers exist, but they aren't extreme enough to warrant removal.\n",
        "* **Age:** There are a few higher outliers above age 70, but again, these may represent valid customers.\n",
        "* **Tenure:** No significant outliers observed.\n",
        "* **Products Number:** A few outliers for customers with more than 3 products.\n",
        "* **Estimated Salary:** No significant outliers.\n",
        "* **Balance:** The missing lower whisker suggests that a large number of customers have a balance of zero. This is typical in banking data, where many customers might have inactive or minimal accounts with no balance. Since the upper whisker does exist and likely extends to higher balances, any customers with extremely high balances would be considered outliers."
      ]
    },
    {
      "cell_type": "markdown",
      "metadata": {
        "id": "c5GW7J14VZiI"
      },
      "source": [
        "# **Outlier Handling Strategy:**\n",
        "\n",
        "For extreme outliers (e.g., high balances), we will apply capping at the 99th percentile to reduce their impact. We will keep less significant outliers, as they likely represent valid data points.\n",
        "\n",
        "Let's cap the extreme outliers now, particularly for the balance and products_number features."
      ]
    },
    {
      "cell_type": "code",
      "execution_count": 27,
      "metadata": {
        "colab": {
          "base_uri": "https://localhost:8080/",
          "height": 300
        },
        "id": "lArDNZM7MyRa",
        "outputId": "6be770cf-5a5e-458b-adf0-d08db81ff99b"
      },
      "outputs": [
        {
          "data": {
            "text/html": [
              "<div>\n",
              "<style scoped>\n",
              "    .dataframe tbody tr th:only-of-type {\n",
              "        vertical-align: middle;\n",
              "    }\n",
              "\n",
              "    .dataframe tbody tr th {\n",
              "        vertical-align: top;\n",
              "    }\n",
              "\n",
              "    .dataframe thead th {\n",
              "        text-align: right;\n",
              "    }\n",
              "</style>\n",
              "<table border=\"1\" class=\"dataframe\">\n",
              "  <thead>\n",
              "    <tr style=\"text-align: right;\">\n",
              "      <th></th>\n",
              "      <th>balance</th>\n",
              "      <th>products_number</th>\n",
              "    </tr>\n",
              "  </thead>\n",
              "  <tbody>\n",
              "    <tr>\n",
              "      <th>count</th>\n",
              "      <td>10000.000000</td>\n",
              "      <td>10000.000000</td>\n",
              "    </tr>\n",
              "    <tr>\n",
              "      <th>mean</th>\n",
              "      <td>76369.720704</td>\n",
              "      <td>1.524200</td>\n",
              "    </tr>\n",
              "    <tr>\n",
              "      <th>std</th>\n",
              "      <td>62172.016053</td>\n",
              "      <td>0.560933</td>\n",
              "    </tr>\n",
              "    <tr>\n",
              "      <th>min</th>\n",
              "      <td>0.000000</td>\n",
              "      <td>1.000000</td>\n",
              "    </tr>\n",
              "    <tr>\n",
              "      <th>25%</th>\n",
              "      <td>0.000000</td>\n",
              "      <td>1.000000</td>\n",
              "    </tr>\n",
              "    <tr>\n",
              "      <th>50%</th>\n",
              "      <td>97198.540000</td>\n",
              "      <td>1.000000</td>\n",
              "    </tr>\n",
              "    <tr>\n",
              "      <th>75%</th>\n",
              "      <td>127644.240000</td>\n",
              "      <td>2.000000</td>\n",
              "    </tr>\n",
              "    <tr>\n",
              "      <th>max</th>\n",
              "      <td>185967.985400</td>\n",
              "      <td>3.000000</td>\n",
              "    </tr>\n",
              "  </tbody>\n",
              "</table>\n",
              "</div>"
            ],
            "text/plain": [
              "             balance  products_number\n",
              "count   10000.000000     10000.000000\n",
              "mean    76369.720704         1.524200\n",
              "std     62172.016053         0.560933\n",
              "min         0.000000         1.000000\n",
              "25%         0.000000         1.000000\n",
              "50%     97198.540000         1.000000\n",
              "75%    127644.240000         2.000000\n",
              "max    185967.985400         3.000000"
            ]
          },
          "execution_count": 27,
          "metadata": {},
          "output_type": "execute_result"
        }
      ],
      "source": [
        "#Handle outliers by capping at the 1st and 99th percentiles\n",
        "\n",
        "# Define a function to cap the values based on percentiles\n",
        "def cap_values(df, column):\n",
        "    lower_bound = df[column].quantile(0.01)\n",
        "    upper_bound = df[column].quantile(0.99)\n",
        "    df[column] = df[column].clip(lower=lower_bound, upper=upper_bound)\n",
        "\n",
        "# Apply capping to 'balance' and 'products_number' (features with visible outliers)\n",
        "cap_values(df, 'balance')\n",
        "cap_values(df, 'products_number')\n",
        "\n",
        "# Check to ensure outliers have been capped\n",
        "df[['balance', 'products_number']].describe()\n"
      ]
    },
    {
      "cell_type": "code",
      "execution_count": 28,
      "metadata": {
        "colab": {
          "base_uri": "https://localhost:8080/",
          "height": 807
        },
        "id": "aba0H1R0MyUa",
        "outputId": "061b0cee-138c-427d-d735-ab96b255bd67"
      },
      "outputs": [
        {
          "data": {
            "image/png": "[encoded data removed]",
            "text/plain": [
              "<Figure size 1000x800 with 2 Axes>"
            ]
          },
          "metadata": {},
          "output_type": "display_data"
        }
      ],
      "source": [
        "plt.figure(figsize=(10, 8))\n",
        "for i, column in enumerate(['balance', 'products_number'], 1):\n",
        "    plt.subplot(2, 1, i)\n",
        "    sns.boxplot(y=df[column], color='yellow')\n",
        "    plt.title(f'Boxplot of {column}')\n",
        "plt.tight_layout()\n",
        "plt.show()"
      ]
    },
    {
      "cell_type": "markdown",
      "metadata": {
        "id": "0kLLVQjFW_QM"
      },
      "source": [
        "The extreme values in balance and products_number have been capped at the 99th percentile, effectively reducing the impact of outliers."
      ]
    },
    {
      "cell_type": "markdown",
      "metadata": {
        "id": "diTRHijidXa8"
      },
      "source": [
        "# **Feature Engineering:**\n",
        "\n",
        "we've explored the dataset thoroughly, we can move on to feature engineering to enhance model performance. We can create new features, handle categorical data (like one-hot encoding for categorical features), and prepare the data for machine learning models.\n",
        "Based on the EDA, we'll take the following steps to prepare the dataset for modeling:\n",
        "\n",
        "1. **Handle Categorical Variables:** Convert the categorical variables (country, gender) into numerical format using one-hot encoding, which will create separate binary columns for each category.\n",
        "2. **Feature Scaling:** Normalize or standardize features that have large ranges (e.g., balance, age, estimated_salary). This step is particularly important for algorithms that are sensitive to the scale of features (like logistic regression or neural networks).\n",
        "3. **Create New Features:**\n",
        "* ***Balance-to-Salary Ratio:*** Create a new feature that represents the ratio of balance to estimated_salary as it may provide insight into a customer's financial standing relative to their income.\n",
        "* ***Is Senior Customer:*** Create a binary feature to capture customers who are above a certain age (e.g., 60), since older customers tend to have a higher churn rate. Added a binary feature (is_senior) to indicate whether the customer is above 60 years old.\n"
      ]
    },
    {
      "cell_type": "code",
      "execution_count": 29,
      "metadata": {
        "id": "dQjB10Afd6md"
      },
      "outputs": [],
      "source": [
        "# Step 1: Handle categorical variables with one-hot encoding\n",
        "df_encoded = pd.get_dummies(df, columns=['country', 'gender'], drop_first=True)"
      ]
    },
    {
      "cell_type": "code",
      "execution_count": 30,
      "metadata": {
        "id": "miJIDIXdd6sX"
      },
      "outputs": [],
      "source": [
        "# Step 2: Create new features\n",
        "# Balance-to-salary ratio\n",
        "df_encoded['balance_salary_ratio'] = df_encoded['balance'] / (df_encoded['estimated_salary'] + 1e-5)  # Adding small value to avoid division by zero"
      ]
    },
    {
      "cell_type": "code",
      "execution_count": 31,
      "metadata": {
        "id": "jZKe56Uzd6uy"
      },
      "outputs": [],
      "source": [
        "# Is senior customer (binary feature: 1 if age > 60, else 0)\n",
        "df_encoded['is_senior'] = df_encoded['age'].apply(lambda x: 1 if x > 60 else 0)\n",
        "\n"
      ]
    },
    {
      "cell_type": "code",
      "execution_count": 32,
      "metadata": {
        "colab": {
          "base_uri": "https://localhost:8080/",
          "height": 206
        },
        "id": "Atn-UrjJd6xS",
        "outputId": "066439fd-7878-459b-b7da-3ea05421db46"
      },
      "outputs": [
        {
          "data": {
            "text/html": [
              "<div>\n",
              "<style scoped>\n",
              "    .dataframe tbody tr th:only-of-type {\n",
              "        vertical-align: middle;\n",
              "    }\n",
              "\n",
              "    .dataframe tbody tr th {\n",
              "        vertical-align: top;\n",
              "    }\n",
              "\n",
              "    .dataframe thead th {\n",
              "        text-align: right;\n",
              "    }\n",
              "</style>\n",
              "<table border=\"1\" class=\"dataframe\">\n",
              "  <thead>\n",
              "    <tr style=\"text-align: right;\">\n",
              "      <th></th>\n",
              "      <th>customer_id</th>\n",
              "      <th>credit_score</th>\n",
              "      <th>age</th>\n",
              "      <th>tenure</th>\n",
              "      <th>balance</th>\n",
              "      <th>products_number</th>\n",
              "      <th>credit_card</th>\n",
              "      <th>active_member</th>\n",
              "      <th>estimated_salary</th>\n",
              "      <th>churn</th>\n",
              "      <th>country_Germany</th>\n",
              "      <th>country_Spain</th>\n",
              "      <th>gender_Male</th>\n",
              "      <th>balance_salary_ratio</th>\n",
              "      <th>is_senior</th>\n",
              "    </tr>\n",
              "  </thead>\n",
              "  <tbody>\n",
              "    <tr>\n",
              "      <th>0</th>\n",
              "      <td>15634602</td>\n",
              "      <td>619</td>\n",
              "      <td>42</td>\n",
              "      <td>2</td>\n",
              "      <td>0.00</td>\n",
              "      <td>1</td>\n",
              "      <td>1</td>\n",
              "      <td>1</td>\n",
              "      <td>101348.88</td>\n",
              "      <td>1</td>\n",
              "      <td>False</td>\n",
              "      <td>False</td>\n",
              "      <td>False</td>\n",
              "      <td>0.000000</td>\n",
              "      <td>0</td>\n",
              "    </tr>\n",
              "    <tr>\n",
              "      <th>1</th>\n",
              "      <td>15647311</td>\n",
              "      <td>608</td>\n",
              "      <td>41</td>\n",
              "      <td>1</td>\n",
              "      <td>83807.86</td>\n",
              "      <td>1</td>\n",
              "      <td>0</td>\n",
              "      <td>1</td>\n",
              "      <td>112542.58</td>\n",
              "      <td>0</td>\n",
              "      <td>False</td>\n",
              "      <td>True</td>\n",
              "      <td>False</td>\n",
              "      <td>0.744677</td>\n",
              "      <td>0</td>\n",
              "    </tr>\n",
              "    <tr>\n",
              "      <th>2</th>\n",
              "      <td>15619304</td>\n",
              "      <td>502</td>\n",
              "      <td>42</td>\n",
              "      <td>8</td>\n",
              "      <td>159660.80</td>\n",
              "      <td>3</td>\n",
              "      <td>1</td>\n",
              "      <td>0</td>\n",
              "      <td>113931.57</td>\n",
              "      <td>1</td>\n",
              "      <td>False</td>\n",
              "      <td>False</td>\n",
              "      <td>False</td>\n",
              "      <td>1.401375</td>\n",
              "      <td>0</td>\n",
              "    </tr>\n",
              "    <tr>\n",
              "      <th>3</th>\n",
              "      <td>15701354</td>\n",
              "      <td>699</td>\n",
              "      <td>39</td>\n",
              "      <td>1</td>\n",
              "      <td>0.00</td>\n",
              "      <td>2</td>\n",
              "      <td>0</td>\n",
              "      <td>0</td>\n",
              "      <td>93826.63</td>\n",
              "      <td>0</td>\n",
              "      <td>False</td>\n",
              "      <td>False</td>\n",
              "      <td>False</td>\n",
              "      <td>0.000000</td>\n",
              "      <td>0</td>\n",
              "    </tr>\n",
              "    <tr>\n",
              "      <th>4</th>\n",
              "      <td>15737888</td>\n",
              "      <td>850</td>\n",
              "      <td>43</td>\n",
              "      <td>2</td>\n",
              "      <td>125510.82</td>\n",
              "      <td>1</td>\n",
              "      <td>1</td>\n",
              "      <td>1</td>\n",
              "      <td>79084.10</td>\n",
              "      <td>0</td>\n",
              "      <td>False</td>\n",
              "      <td>True</td>\n",
              "      <td>False</td>\n",
              "      <td>1.587055</td>\n",
              "      <td>0</td>\n",
              "    </tr>\n",
              "  </tbody>\n",
              "</table>\n",
              "</div>"
            ],
            "text/plain": [
              "   customer_id  credit_score  age  tenure    balance  products_number  \\\n",
              "0     15634602           619   42       2       0.00                1   \n",
              "1     15647311           608   41       1   83807.86                1   \n",
              "2     15619304           502   42       8  159660.80                3   \n",
              "3     15701354           699   39       1       0.00                2   \n",
              "4     15737888           850   43       2  125510.82                1   \n",
              "\n",
              "   credit_card  active_member  estimated_salary  churn  country_Germany  \\\n",
              "0            1              1         101348.88      1            False   \n",
              "1            0              1         112542.58      0            False   \n",
              "2            1              0         113931.57      1            False   \n",
              "3            0              0          93826.63      0            False   \n",
              "4            1              1          79084.10      0            False   \n",
              "\n",
              "   country_Spain  gender_Male  balance_salary_ratio  is_senior  \n",
              "0          False        False              0.000000          0  \n",
              "1           True        False              0.744677          0  \n",
              "2          False        False              1.401375          0  \n",
              "3          False        False              0.000000          0  \n",
              "4           True        False              1.587055          0  "
            ]
          },
          "execution_count": 32,
          "metadata": {},
          "output_type": "execute_result"
        }
      ],
      "source": [
        "df_encoded.head()"
      ]
    },
    {
      "cell_type": "code",
      "execution_count": 33,
      "metadata": {
        "id": "tomCD9sEd6z5"
      },
      "outputs": [
        {
          "ename": "KeyboardInterrupt",
          "evalue": "",
          "output_type": "error",
          "traceback": [
            "\u001b[1;31m---------------------------------------------------------------------------\u001b[0m",
            "\u001b[1;31mKeyboardInterrupt\u001b[0m                         Traceback (most recent call last)",
            "Cell \u001b[1;32mIn[33], line 2\u001b[0m\n\u001b[0;32m      1\u001b[0m \u001b[38;5;66;03m# Step 3: Feature Scaling (normalizing balance, age, estimated_salary)\u001b[39;00m\n\u001b[1;32m----> 2\u001b[0m \u001b[38;5;28;01mfrom\u001b[39;00m \u001b[38;5;21;01msklearn\u001b[39;00m\u001b[38;5;21;01m.\u001b[39;00m\u001b[38;5;21;01mpreprocessing\u001b[39;00m \u001b[38;5;28;01mimport\u001b[39;00m StandardScaler\n\u001b[0;32m      4\u001b[0m \u001b[38;5;66;03m# Create an instance of StandardScaler\u001b[39;00m\n\u001b[0;32m      5\u001b[0m scaler\u001b[38;5;241m=\u001b[39mStandardScaler()\n",
            "File \u001b[1;32mc:\\Users\\uzma.ali\\AppData\\Local\\Programs\\Python\\Python312\\Lib\\site-packages\\sklearn\\__init__.py:84\u001b[0m\n\u001b[0;32m     70\u001b[0m     \u001b[38;5;66;03m# We are not importing the rest of scikit-learn during the build\u001b[39;00m\n\u001b[0;32m     71\u001b[0m     \u001b[38;5;66;03m# process, as it may not be compiled yet\u001b[39;00m\n\u001b[0;32m     72\u001b[0m \u001b[38;5;28;01melse\u001b[39;00m:\n\u001b[1;32m   (...)\u001b[0m\n\u001b[0;32m     78\u001b[0m     \u001b[38;5;66;03m# later is linked to the OpenMP runtime to make it possible to introspect\u001b[39;00m\n\u001b[0;32m     79\u001b[0m     \u001b[38;5;66;03m# it and importing it first would fail if the OpenMP dll cannot be found.\u001b[39;00m\n\u001b[0;32m     80\u001b[0m     \u001b[38;5;28;01mfrom\u001b[39;00m \u001b[38;5;21;01m.\u001b[39;00m \u001b[38;5;28;01mimport\u001b[39;00m (\n\u001b[0;32m     81\u001b[0m         __check_build,  \u001b[38;5;66;03m# noqa: F401\u001b[39;00m\n\u001b[0;32m     82\u001b[0m         _distributor_init,  \u001b[38;5;66;03m# noqa: F401\u001b[39;00m\n\u001b[0;32m     83\u001b[0m     )\n\u001b[1;32m---> 84\u001b[0m     \u001b[38;5;28;01mfrom\u001b[39;00m \u001b[38;5;21;01m.\u001b[39;00m\u001b[38;5;21;01mbase\u001b[39;00m \u001b[38;5;28;01mimport\u001b[39;00m clone\n\u001b[0;32m     85\u001b[0m     \u001b[38;5;28;01mfrom\u001b[39;00m \u001b[38;5;21;01m.\u001b[39;00m\u001b[38;5;21;01mutils\u001b[39;00m\u001b[38;5;21;01m.\u001b[39;00m\u001b[38;5;21;01m_show_versions\u001b[39;00m \u001b[38;5;28;01mimport\u001b[39;00m show_versions\n\u001b[0;32m     87\u001b[0m     __all__ \u001b[38;5;241m=\u001b[39m [\n\u001b[0;32m     88\u001b[0m         \u001b[38;5;124m\"\u001b[39m\u001b[38;5;124mcalibration\u001b[39m\u001b[38;5;124m\"\u001b[39m,\n\u001b[0;32m     89\u001b[0m         \u001b[38;5;124m\"\u001b[39m\u001b[38;5;124mcluster\u001b[39m\u001b[38;5;124m\"\u001b[39m,\n\u001b[1;32m   (...)\u001b[0m\n\u001b[0;32m    130\u001b[0m         \u001b[38;5;124m\"\u001b[39m\u001b[38;5;124mshow_versions\u001b[39m\u001b[38;5;124m\"\u001b[39m,\n\u001b[0;32m    131\u001b[0m     ]\n",
            "File \u001b[1;32mc:\\Users\\uzma.ali\\AppData\\Local\\Programs\\Python\\Python312\\Lib\\site-packages\\sklearn\\base.py:23\u001b[0m\n\u001b[0;32m     21\u001b[0m \u001b[38;5;28;01mfrom\u001b[39;00m \u001b[38;5;21;01m.\u001b[39;00m\u001b[38;5;21;01mutils\u001b[39;00m\u001b[38;5;21;01m.\u001b[39;00m\u001b[38;5;21;01m_param_validation\u001b[39;00m \u001b[38;5;28;01mimport\u001b[39;00m validate_parameter_constraints\n\u001b[0;32m     22\u001b[0m \u001b[38;5;28;01mfrom\u001b[39;00m \u001b[38;5;21;01m.\u001b[39;00m\u001b[38;5;21;01mutils\u001b[39;00m\u001b[38;5;21;01m.\u001b[39;00m\u001b[38;5;21;01m_set_output\u001b[39;00m \u001b[38;5;28;01mimport\u001b[39;00m _SetOutputMixin\n\u001b[1;32m---> 23\u001b[0m \u001b[38;5;28;01mfrom\u001b[39;00m \u001b[38;5;21;01m.\u001b[39;00m\u001b[38;5;21;01mutils\u001b[39;00m\u001b[38;5;21;01m.\u001b[39;00m\u001b[38;5;21;01m_tags\u001b[39;00m \u001b[38;5;28;01mimport\u001b[39;00m (\n\u001b[0;32m     24\u001b[0m     _DEFAULT_TAGS,\n\u001b[0;32m     25\u001b[0m )\n\u001b[0;32m     26\u001b[0m \u001b[38;5;28;01mfrom\u001b[39;00m \u001b[38;5;21;01m.\u001b[39;00m\u001b[38;5;21;01mutils\u001b[39;00m\u001b[38;5;21;01m.\u001b[39;00m\u001b[38;5;21;01mfixes\u001b[39;00m \u001b[38;5;28;01mimport\u001b[39;00m _IS_32BIT\n\u001b[0;32m     27\u001b[0m \u001b[38;5;28;01mfrom\u001b[39;00m \u001b[38;5;21;01m.\u001b[39;00m\u001b[38;5;21;01mutils\u001b[39;00m\u001b[38;5;21;01m.\u001b[39;00m\u001b[38;5;21;01mvalidation\u001b[39;00m \u001b[38;5;28;01mimport\u001b[39;00m (\n\u001b[0;32m     28\u001b[0m     _check_feature_names_in,\n\u001b[0;32m     29\u001b[0m     _check_y,\n\u001b[1;32m   (...)\u001b[0m\n\u001b[0;32m     36\u001b[0m     check_X_y,\n\u001b[0;32m     37\u001b[0m )\n",
            "File \u001b[1;32m<frozen importlib._bootstrap>:1360\u001b[0m, in \u001b[0;36m_find_and_load\u001b[1;34m(name, import_)\u001b[0m\n",
            "File \u001b[1;32m<frozen importlib._bootstrap>:1322\u001b[0m, in \u001b[0;36m_find_and_load_unlocked\u001b[1;34m(name, import_)\u001b[0m\n",
            "File \u001b[1;32m<frozen importlib._bootstrap>:1262\u001b[0m, in \u001b[0;36m_find_spec\u001b[1;34m(name, path, target)\u001b[0m\n",
            "File \u001b[1;32m<frozen importlib._bootstrap_external>:1528\u001b[0m, in \u001b[0;36mfind_spec\u001b[1;34m(cls, fullname, path, target)\u001b[0m\n",
            "File \u001b[1;32m<frozen importlib._bootstrap_external>:1502\u001b[0m, in \u001b[0;36m_get_spec\u001b[1;34m(cls, fullname, path, target)\u001b[0m\n",
            "File \u001b[1;32m<frozen importlib._bootstrap_external>:1601\u001b[0m, in \u001b[0;36mfind_spec\u001b[1;34m(self, fullname, target)\u001b[0m\n",
            "File \u001b[1;32m<frozen importlib._bootstrap_external>:147\u001b[0m, in \u001b[0;36m_path_stat\u001b[1;34m(path)\u001b[0m\n",
            "\u001b[1;31mKeyboardInterrupt\u001b[0m: "
          ]
        }
      ],
      "source": [
        "# Step 3: Feature Scaling (normalizing balance, age, estimated_salary)\n",
        "from sklearn.preprocessing import StandardScaler\n",
        "\n",
        "# Create an instance of StandardScaler\n",
        "scaler=StandardScaler()\n",
        "\n",
        "# Fit and transform the selected columns\n",
        "df_encoded[['balance', 'age', 'estimated_salary', 'balance_salary_ratio']] = scaler.fit_transform(df_encoded[['balance', 'age', 'estimated_salary', 'balance_salary_ratio']])\n"
      ]
    },
    {
      "cell_type": "code",
      "execution_count": 45,
      "metadata": {
        "colab": {
          "base_uri": "https://localhost:8080/",
          "height": 206
        },
        "id": "P4ZjrydUfu90",
        "outputId": "1e9d0753-7470-4abb-ce48-4ec8618095dd"
      },
      "outputs": [
        {
          "data": {
            "application/vnd.google.colaboratory.intrinsic+json": {
              "summary": "{\n  \"name\": \"df_encoded\",\n  \"rows\": 10000,\n  \"fields\": [\n    {\n      \"column\": \"customer_id\",\n      \"properties\": {\n        \"dtype\": \"number\",\n        \"std\": 71936,\n        \"min\": 15565701,\n        \"max\": 15815690,\n        \"num_unique_values\": 10000,\n        \"samples\": [\n          15687492,\n          15736963,\n          15721730\n        ],\n        \"semantic_type\": \"\",\n        \"description\": \"\"\n      }\n    },\n    {\n      \"column\": \"credit_score\",\n      \"properties\": {\n        \"dtype\": \"number\",\n        \"std\": 96,\n        \"min\": 350,\n        \"max\": 850,\n        \"num_unique_values\": 460,\n        \"samples\": [\n          754,\n          533,\n          744\n        ],\n        \"semantic_type\": \"\",\n        \"description\": \"\"\n      }\n    },\n    {\n      \"column\": \"age\",\n      \"properties\": {\n        \"dtype\": \"number\",\n        \"std\": 1.000050003750302,\n        \"min\": -1.9949687539344934,\n        \"max\": 5.0611969579618314,\n        \"num_unique_values\": 70,\n        \"samples\": [\n          2.105235646221479,\n          0.2935174228967471,\n          1.9145284648188758\n        ],\n        \"semantic_type\": \"\",\n        \"description\": \"\"\n      }\n    },\n    {\n      \"column\": \"tenure\",\n      \"properties\": {\n        \"dtype\": \"number\",\n        \"std\": 2,\n        \"min\": 0,\n        \"max\": 10,\n        \"num_unique_values\": 11,\n        \"samples\": [\n          6,\n          2,\n          9\n        ],\n        \"semantic_type\": \"\",\n        \"description\": \"\"\n      }\n    },\n    {\n      \"column\": \"balance\",\n      \"properties\": {\n        \"dtype\": \"number\",\n        \"std\": 1.0000500037502995,\n        \"min\": -1.2284230804367304,\n        \"max\": 1.7629112256440254,\n        \"num_unique_values\": 6283,\n        \"samples\": [\n          0.5029563911714572,\n          0.8280611879848535,\n          0.9877025653097314\n        ],\n        \"semantic_type\": \"\",\n        \"description\": \"\"\n      }\n    },\n    {\n      \"column\": \"products_number\",\n      \"properties\": {\n        \"dtype\": \"number\",\n        \"std\": 0,\n        \"min\": 1,\n        \"max\": 3,\n        \"num_unique_values\": 3,\n        \"samples\": [\n          1,\n          3,\n          2\n        ],\n        \"semantic_type\": \"\",\n        \"description\": \"\"\n      }\n    },\n    {\n      \"column\": \"credit_card\",\n      \"properties\": {\n        \"dtype\": \"number\",\n        \"std\": 0,\n        \"min\": 0,\n        \"max\": 1,\n        \"num_unique_values\": 2,\n        \"samples\": [\n          0,\n          1\n        ],\n        \"semantic_type\": \"\",\n        \"description\": \"\"\n      }\n    },\n    {\n      \"column\": \"active_member\",\n      \"properties\": {\n        \"dtype\": \"number\",\n        \"std\": 0,\n        \"min\": 0,\n        \"max\": 1,\n        \"num_unique_values\": 2,\n        \"samples\": [\n          0,\n          1\n        ],\n        \"semantic_type\": \"\",\n        \"description\": \"\"\n      }\n    },\n    {\n      \"column\": \"estimated_salary\",\n      \"properties\": {\n        \"dtype\": \"number\",\n        \"std\": 1.00005000375031,\n        \"min\": -1.7402678934881386,\n        \"max\": 1.7372001301113063,\n        \"num_unique_values\": 9999,\n        \"samples\": [\n          0.012515735371750046,\n          -0.08375429401772011\n        ],\n        \"semantic_type\": \"\",\n        \"description\": \"\"\n      }\n    },\n    {\n      \"column\": \"churn\",\n      \"properties\": {\n        \"dtype\": \"number\",\n        \"std\": 0,\n        \"min\": 0,\n        \"max\": 1,\n        \"num_unique_values\": 2,\n        \"samples\": [\n          0,\n          1\n        ],\n        \"semantic_type\": \"\",\n        \"description\": \"\"\n      }\n    },\n    {\n      \"column\": \"country_Germany\",\n      \"properties\": {\n        \"dtype\": \"boolean\",\n        \"num_unique_values\": 2,\n        \"samples\": [\n          true,\n          false\n        ],\n        \"semantic_type\": \"\",\n        \"description\": \"\"\n      }\n    },\n    {\n      \"column\": \"country_Spain\",\n      \"properties\": {\n        \"dtype\": \"boolean\",\n        \"num_unique_values\": 2,\n        \"samples\": [\n          true,\n          false\n        ],\n        \"semantic_type\": \"\",\n        \"description\": \"\"\n      }\n    },\n    {\n      \"column\": \"gender_Male\",\n      \"properties\": {\n        \"dtype\": \"boolean\",\n        \"num_unique_values\": 2,\n        \"samples\": [\n          true,\n          false\n        ],\n        \"semantic_type\": \"\",\n        \"description\": \"\"\n      }\n    },\n    {\n      \"column\": \"balance_salary_ratio\",\n      \"properties\": {\n        \"dtype\": \"number\",\n        \"std\": 1.000050003750375,\n        \"min\": -0.03576196989407522,\n        \"max\": 97.95396051706949,\n        \"num_unique_values\": 6384,\n        \"samples\": [\n          -0.02435712984171225,\n          -0.029191420378794474\n        ],\n        \"semantic_type\": \"\",\n        \"description\": \"\"\n      }\n    },\n    {\n      \"column\": \"is_senior\",\n      \"properties\": {\n        \"dtype\": \"number\",\n        \"std\": 0,\n        \"min\": 0,\n        \"max\": 1,\n        \"num_unique_values\": 2,\n        \"samples\": [\n          1,\n          0\n        ],\n        \"semantic_type\": \"\",\n        \"description\": \"\"\n      }\n    }\n  ]\n}",
              "type": "dataframe",
              "variable_name": "df_encoded"
            },
            "text/html": [
              "\n",
              "  <div id=\"df-9cfd699d-f41d-481a-af1e-bd1cee46e6f7\" class=\"colab-df-container\">\n",
              "    <div>\n",
              "<style scoped>\n",
              "    .dataframe tbody tr th:only-of-type {\n",
              "        vertical-align: middle;\n",
              "    }\n",
              "\n",
              "    .dataframe tbody tr th {\n",
              "        vertical-align: top;\n",
              "    }\n",
              "\n",
              "    .dataframe thead th {\n",
              "        text-align: right;\n",
              "    }\n",
              "</style>\n",
              "<table border=\"1\" class=\"dataframe\">\n",
              "  <thead>\n",
              "    <tr style=\"text-align: right;\">\n",
              "      <th></th>\n",
              "      <th>customer_id</th>\n",
              "      <th>credit_score</th>\n",
              "      <th>age</th>\n",
              "      <th>tenure</th>\n",
              "      <th>balance</th>\n",
              "      <th>products_number</th>\n",
              "      <th>credit_card</th>\n",
              "      <th>active_member</th>\n",
              "      <th>estimated_salary</th>\n",
              "      <th>churn</th>\n",
              "      <th>country_Germany</th>\n",
              "      <th>country_Spain</th>\n",
              "      <th>gender_Male</th>\n",
              "      <th>balance_salary_ratio</th>\n",
              "      <th>is_senior</th>\n",
              "    </tr>\n",
              "  </thead>\n",
              "  <tbody>\n",
              "    <tr>\n",
              "      <th>0</th>\n",
              "      <td>15634602</td>\n",
              "      <td>619</td>\n",
              "      <td>0.293517</td>\n",
              "      <td>2</td>\n",
              "      <td>-1.228423</td>\n",
              "      <td>1</td>\n",
              "      <td>1</td>\n",
              "      <td>1</td>\n",
              "      <td>0.021886</td>\n",
              "      <td>1</td>\n",
              "      <td>False</td>\n",
              "      <td>False</td>\n",
              "      <td>False</td>\n",
              "      <td>-0.035762</td>\n",
              "      <td>0</td>\n",
              "    </tr>\n",
              "    <tr>\n",
              "      <th>1</th>\n",
              "      <td>15647311</td>\n",
              "      <td>608</td>\n",
              "      <td>0.198164</td>\n",
              "      <td>1</td>\n",
              "      <td>0.119644</td>\n",
              "      <td>1</td>\n",
              "      <td>0</td>\n",
              "      <td>1</td>\n",
              "      <td>0.216534</td>\n",
              "      <td>0</td>\n",
              "      <td>False</td>\n",
              "      <td>True</td>\n",
              "      <td>False</td>\n",
              "      <td>-0.028887</td>\n",
              "      <td>0</td>\n",
              "    </tr>\n",
              "    <tr>\n",
              "      <th>2</th>\n",
              "      <td>15619304</td>\n",
              "      <td>502</td>\n",
              "      <td>0.293517</td>\n",
              "      <td>8</td>\n",
              "      <td>1.339755</td>\n",
              "      <td>3</td>\n",
              "      <td>1</td>\n",
              "      <td>0</td>\n",
              "      <td>0.240687</td>\n",
              "      <td>1</td>\n",
              "      <td>False</td>\n",
              "      <td>False</td>\n",
              "      <td>False</td>\n",
              "      <td>-0.022825</td>\n",
              "      <td>0</td>\n",
              "    </tr>\n",
              "    <tr>\n",
              "      <th>3</th>\n",
              "      <td>15701354</td>\n",
              "      <td>699</td>\n",
              "      <td>0.007457</td>\n",
              "      <td>1</td>\n",
              "      <td>-1.228423</td>\n",
              "      <td>2</td>\n",
              "      <td>0</td>\n",
              "      <td>0</td>\n",
              "      <td>-0.108918</td>\n",
              "      <td>0</td>\n",
              "      <td>False</td>\n",
              "      <td>False</td>\n",
              "      <td>False</td>\n",
              "      <td>-0.035762</td>\n",
              "      <td>0</td>\n",
              "    </tr>\n",
              "    <tr>\n",
              "      <th>4</th>\n",
              "      <td>15737888</td>\n",
              "      <td>850</td>\n",
              "      <td>0.388871</td>\n",
              "      <td>2</td>\n",
              "      <td>0.790445</td>\n",
              "      <td>1</td>\n",
              "      <td>1</td>\n",
              "      <td>1</td>\n",
              "      <td>-0.365276</td>\n",
              "      <td>0</td>\n",
              "      <td>False</td>\n",
              "      <td>True</td>\n",
              "      <td>False</td>\n",
              "      <td>-0.021111</td>\n",
              "      <td>0</td>\n",
              "    </tr>\n",
              "  </tbody>\n",
              "</table>\n",
              "</div>\n",
              "    <div class=\"colab-df-buttons\">\n",
              "\n",
              "  <div class=\"colab-df-container\">\n",
              "    <button class=\"colab-df-convert\" onclick=\"convertToInteractive('df-9cfd699d-f41d-481a-af1e-bd1cee46e6f7')\"\n",
              "            title=\"Convert this dataframe to an interactive table.\"\n",
              "            style=\"display:none;\">\n",
              "\n",
              "  <svg xmlns=\"http://www.w3.org/2000/svg\" height=\"24px\" viewBox=\"0 -960 960 960\">\n",
              "    <path d=\"M120-120v-720h720v720H120Zm60-500h600v-160H180v160Zm220 220h160v-160H400v160Zm0 220h160v-160H400v160ZM180-400h160v-160H180v160Zm440 0h160v-160H620v160ZM180-180h160v-160H180v160Zm440 0h160v-160H620v160Z\"/>\n",
              "  </svg>\n",
              "    </button>\n",
              "\n",
              "  <style>\n",
              "    .colab-df-container {\n",
              "      display:flex;\n",
              "      gap: 12px;\n",
              "    }\n",
              "\n",
              "    .colab-df-convert {\n",
              "      background-color: #E8F0FE;\n",
              "      border: none;\n",
              "      border-radius: 50%;\n",
              "      cursor: pointer;\n",
              "      display: none;\n",
              "      fill: #1967D2;\n",
              "      height: 32px;\n",
              "      padding: 0 0 0 0;\n",
              "      width: 32px;\n",
              "    }\n",
              "\n",
              "    .colab-df-convert:hover {\n",
              "      background-color: #E2EBFA;\n",
              "      box-shadow: 0px 1px 2px rgba(60, 64, 67, 0.3), 0px 1px 3px 1px rgba(60, 64, 67, 0.15);\n",
              "      fill: #174EA6;\n",
              "    }\n",
              "\n",
              "    .colab-df-buttons div {\n",
              "      margin-bottom: 4px;\n",
              "    }\n",
              "\n",
              "    [theme=dark] .colab-df-convert {\n",
              "      background-color: #3B4455;\n",
              "      fill: #D2E3FC;\n",
              "    }\n",
              "\n",
              "    [theme=dark] .colab-df-convert:hover {\n",
              "      background-color: #434B5C;\n",
              "      box-shadow: 0px 1px 3px 1px rgba(0, 0, 0, 0.15);\n",
              "      filter: drop-shadow(0px 1px 2px rgba(0, 0, 0, 0.3));\n",
              "      fill: #FFFFFF;\n",
              "    }\n",
              "  </style>\n",
              "\n",
              "    <script>\n",
              "      const buttonEl =\n",
              "        document.querySelector('#df-9cfd699d-f41d-481a-af1e-bd1cee46e6f7 button.colab-df-convert');\n",
              "      buttonEl.style.display =\n",
              "        google.colab.kernel.accessAllowed ? 'block' : 'none';\n",
              "\n",
              "      async function convertToInteractive(key) {\n",
              "        const element = document.querySelector('#df-9cfd699d-f41d-481a-af1e-bd1cee46e6f7');\n",
              "        const dataTable =\n",
              "          await google.colab.kernel.invokeFunction('convertToInteractive',\n",
              "                                                    [key], {});\n",
              "        if (!dataTable) return;\n",
              "\n",
              "        const docLinkHtml = 'Like what you see? Visit the ' +\n",
              "          '<a target=\"_blank\" href=https://colab.research.google.com/notebooks/data_table.ipynb>data table notebook</a>'\n",
              "          + ' to learn more about interactive tables.';\n",
              "        element.innerHTML = '';\n",
              "        dataTable['output_type'] = 'display_data';\n",
              "        await google.colab.output.renderOutput(dataTable, element);\n",
              "        const docLink = document.createElement('div');\n",
              "        docLink.innerHTML = docLinkHtml;\n",
              "        element.appendChild(docLink);\n",
              "      }\n",
              "    </script>\n",
              "  </div>\n",
              "\n",
              "\n",
              "<div id=\"df-2845e61d-8543-4b5d-859b-b31dd8768924\">\n",
              "  <button class=\"colab-df-quickchart\" onclick=\"quickchart('df-2845e61d-8543-4b5d-859b-b31dd8768924')\"\n",
              "            title=\"Suggest charts\"\n",
              "            style=\"display:none;\">\n",
              "\n",
              "<svg xmlns=\"http://www.w3.org/2000/svg\" height=\"24px\"viewBox=\"0 0 24 24\"\n",
              "     width=\"24px\">\n",
              "    <g>\n",
              "        <path d=\"M19 3H5c-1.1 0-2 .9-2 2v14c0 1.1.9 2 2 2h14c1.1 0 2-.9 2-2V5c0-1.1-.9-2-2-2zM9 17H7v-7h2v7zm4 0h-2V7h2v10zm4 0h-2v-4h2v4z\"/>\n",
              "    </g>\n",
              "</svg>\n",
              "  </button>\n",
              "\n",
              "<style>\n",
              "  .colab-df-quickchart {\n",
              "      --bg-color: #E8F0FE;\n",
              "      --fill-color: #1967D2;\n",
              "      --hover-bg-color: #E2EBFA;\n",
              "      --hover-fill-color: #174EA6;\n",
              "      --disabled-fill-color: #AAA;\n",
              "      --disabled-bg-color: #DDD;\n",
              "  }\n",
              "\n",
              "  [theme=dark] .colab-df-quickchart {\n",
              "      --bg-color: #3B4455;\n",
              "      --fill-color: #D2E3FC;\n",
              "      --hover-bg-color: #434B5C;\n",
              "      --hover-fill-color: #FFFFFF;\n",
              "      --disabled-bg-color: #3B4455;\n",
              "      --disabled-fill-color: #666;\n",
              "  }\n",
              "\n",
              "  .colab-df-quickchart {\n",
              "    background-color: var(--bg-color);\n",
              "    border: none;\n",
              "    border-radius: 50%;\n",
              "    cursor: pointer;\n",
              "    display: none;\n",
              "    fill: var(--fill-color);\n",
              "    height: 32px;\n",
              "    padding: 0;\n",
              "    width: 32px;\n",
              "  }\n",
              "\n",
              "  .colab-df-quickchart:hover {\n",
              "    background-color: var(--hover-bg-color);\n",
              "    box-shadow: 0 1px 2px rgba(60, 64, 67, 0.3), 0 1px 3px 1px rgba(60, 64, 67, 0.15);\n",
              "    fill: var(--button-hover-fill-color);\n",
              "  }\n",
              "\n",
              "  .colab-df-quickchart-complete:disabled,\n",
              "  .colab-df-quickchart-complete:disabled:hover {\n",
              "    background-color: var(--disabled-bg-color);\n",
              "    fill: var(--disabled-fill-color);\n",
              "    box-shadow: none;\n",
              "  }\n",
              "\n",
              "  .colab-df-spinner {\n",
              "    border: 2px solid var(--fill-color);\n",
              "    border-color: transparent;\n",
              "    border-bottom-color: var(--fill-color);\n",
              "    animation:\n",
              "      spin 1s steps(1) infinite;\n",
              "  }\n",
              "\n",
              "  @keyframes spin {\n",
              "    0% {\n",
              "      border-color: transparent;\n",
              "      border-bottom-color: var(--fill-color);\n",
              "      border-left-color: var(--fill-color);\n",
              "    }\n",
              "    20% {\n",
              "      border-color: transparent;\n",
              "      border-left-color: var(--fill-color);\n",
              "      border-top-color: var(--fill-color);\n",
              "    }\n",
              "    30% {\n",
              "      border-color: transparent;\n",
              "      border-left-color: var(--fill-color);\n",
              "      border-top-color: var(--fill-color);\n",
              "      border-right-color: var(--fill-color);\n",
              "    }\n",
              "    40% {\n",
              "      border-color: transparent;\n",
              "      border-right-color: var(--fill-color);\n",
              "      border-top-color: var(--fill-color);\n",
              "    }\n",
              "    60% {\n",
              "      border-color: transparent;\n",
              "      border-right-color: var(--fill-color);\n",
              "    }\n",
              "    80% {\n",
              "      border-color: transparent;\n",
              "      border-right-color: var(--fill-color);\n",
              "      border-bottom-color: var(--fill-color);\n",
              "    }\n",
              "    90% {\n",
              "      border-color: transparent;\n",
              "      border-bottom-color: var(--fill-color);\n",
              "    }\n",
              "  }\n",
              "</style>\n",
              "\n",
              "  <script>\n",
              "    async function quickchart(key) {\n",
              "      const quickchartButtonEl =\n",
              "        document.querySelector('#' + key + ' button');\n",
              "      quickchartButtonEl.disabled = true;  // To prevent multiple clicks.\n",
              "      quickchartButtonEl.classList.add('colab-df-spinner');\n",
              "      try {\n",
              "        const charts = await google.colab.kernel.invokeFunction(\n",
              "            'suggestCharts', [key], {});\n",
              "      } catch (error) {\n",
              "        console.error('Error during call to suggestCharts:', error);\n",
              "      }\n",
              "      quickchartButtonEl.classList.remove('colab-df-spinner');\n",
              "      quickchartButtonEl.classList.add('colab-df-quickchart-complete');\n",
              "    }\n",
              "    (() => {\n",
              "      let quickchartButtonEl =\n",
              "        document.querySelector('#df-2845e61d-8543-4b5d-859b-b31dd8768924 button');\n",
              "      quickchartButtonEl.style.display =\n",
              "        google.colab.kernel.accessAllowed ? 'block' : 'none';\n",
              "    })();\n",
              "  </script>\n",
              "</div>\n",
              "\n",
              "    </div>\n",
              "  </div>\n"
            ],
            "text/plain": [
              "   customer_id  credit_score       age  tenure   balance  products_number  \\\n",
              "0     15634602           619  0.293517       2 -1.228423                1   \n",
              "1     15647311           608  0.198164       1  0.119644                1   \n",
              "2     15619304           502  0.293517       8  1.339755                3   \n",
              "3     15701354           699  0.007457       1 -1.228423                2   \n",
              "4     15737888           850  0.388871       2  0.790445                1   \n",
              "\n",
              "   credit_card  active_member  estimated_salary  churn  country_Germany  \\\n",
              "0            1              1          0.021886      1            False   \n",
              "1            0              1          0.216534      0            False   \n",
              "2            1              0          0.240687      1            False   \n",
              "3            0              0         -0.108918      0            False   \n",
              "4            1              1         -0.365276      0            False   \n",
              "\n",
              "   country_Spain  gender_Male  balance_salary_ratio  is_senior  \n",
              "0          False        False             -0.035762          0  \n",
              "1           True        False             -0.028887          0  \n",
              "2          False        False             -0.022825          0  \n",
              "3          False        False             -0.035762          0  \n",
              "4           True        False             -0.021111          0  "
            ]
          },
          "execution_count": 45,
          "metadata": {},
          "output_type": "execute_result"
        }
      ],
      "source": [
        "df_encoded.head()"
      ]
    },
    {
      "cell_type": "markdown",
      "metadata": {
        "id": "YpLE5d2eXF-6"
      },
      "source": [
        "# **Addressing Class Imbalance:**\n",
        "\n",
        "We had previously observed that the target variable (churn) is imbalanced (about 20% churn), this could lead to biased models that favor the majority class (non-churn).\n",
        "* Common methods to handle class imbalance:\n",
        "     * **Oversampling:** Increase the number of churn cases by duplicating them (e.g., using SMOTE). This technique creates synthetic samples for the minority class (churned customers) to balance the dataset.\n",
        "     * **Undersampling:** Reduce the number of non-churn cases.  This reduces the size of the majority class (non-churned customers) to balance the dataset.\n",
        "     * **Class Weights:** Many machine learning algorithms (like logistic regression, decision trees) have a class_weight parameter to assign more weight to the minority class during training.\n",
        "\n",
        "We will go with Class weight method as we do not want to alter the data or any other overfitting problem.\n"
      ]
    },
    {
      "cell_type": "markdown",
      "metadata": {
        "id": "P_F4n8fjlLcc"
      },
      "source": [
        "Next Steps are as follows:\n",
        "\n",
        "1. **Split the Data:**\n",
        "Train-Test Split: Split the data into training and test sets (e.g., 70% train, 30% test) to ensure you can evaluate the model on unseen data.\n",
        "2. **Select and Train Models:**\n",
        "* **Model Selection:** Select a model based on the its performance. In this case we will use LazyPredict to pick the best fit model\n",
        "* **Class Weights:** Apply class weights to handle the class imbalance during training.\n",
        "3. **Model Evaluation:**\n",
        "* **Metrics:** Focus on key evaluation metrics, especially for the minority class (churn) Precision, Recall, F1-Score (especially recall to capture churn correctly).\n",
        "* **Confusion Matrix:** To check true positives and false positives for churn.\n",
        "* **Cross-Validation:** Use cross-validation to ensure model robustness.\n",
        "4. **Hyperparameter Tuning:**\n",
        "* **Grid Search or Random Search:** Optimize model parameters to improve performance, particularly for models like Random Forest and Gradient Boosting.\n",
        "5. **Test on the Unseen Data:**\n",
        "Evaluate the tuned model on the test set to get the final performance metrics.\n",
        "6. **Model Selection and Finalization:**\n",
        "Based on performance (recall, F1-score, etc.), select the best model for predicting churn.\n"
      ]
    },
    {
      "cell_type": "code",
      "execution_count": 46,
      "metadata": {
        "colab": {
          "base_uri": "https://localhost:8080/"
        },
        "id": "o2YBK94XMyXv",
        "outputId": "195984d9-7037-4bf1-acf3-3ddc8332f70f"
      },
      "outputs": [
        {
          "name": "stdout",
          "output_type": "stream",
          "text": [
            "X_train shape: (7000, 13)\n",
            "X_test shape: (3000, 13)\n",
            "y)train shape: (7000,)\n",
            "y_test shape: (3000,)\n"
          ]
        }
      ],
      "source": [
        "from sklearn.model_selection import train_test_split\n",
        "\n",
        "#Define independent features and target feature\n",
        "# We are exluding churn and customer_id since customer_id is least important feature for ML\n",
        "\n",
        "X=df_encoded.drop(columns=['customer_id','churn'])\n",
        "y=df_encoded['churn']\n",
        "\n",
        "#Split the data into training and test sets (70% train, 30% test)\n",
        "X_train,X_test,y_train,y_test=train_test_split(X,y,test_size=0.3,random_state=42, stratify=y)\n",
        "\n",
        "# Display the shape of the resulting splits\n",
        "print(f\"X_train shape: {X_train.shape}\")\n",
        "print(f\"X_test shape: {X_test.shape}\")\n",
        "print(f\"y_train shape: {y_train.shape}\")\n",
        "print(f\"y_test shape: {y_test.shape}\")"
      ]
    },
    {
      "cell_type": "markdown",
      "metadata": {
        "id": "Mw6aBmvAmr7G"
      },
      "source": [
        "Now that we have split the training and test data. We will use LazyPredict, it allows you to compare multiple machine learning models and their performance on the dataset without extensive code for each model. Once we have identified which model will perform well with the dataset and the we can focus on the model fine tuning."
      ]
    },
    {
      "cell_type": "code",
      "execution_count": 52,
      "metadata": {
        "colab": {
          "base_uri": "https://localhost:8080/"
        },
        "id": "qXist0jologx",
        "outputId": "3ff4f827-e12d-401b-9e8d-14e04d568ad0"
      },
      "outputs": [
        {
          "name": "stderr",
          "output_type": "stream",
          "text": [
            " 97%|█████████▋| 30/31 [00:16<00:00,  2.03it/s]"
          ]
        },
        {
          "name": "stdout",
          "output_type": "stream",
          "text": [
            "[LightGBM] [Info] Number of positive: 1426, number of negative: 5574\n",
            "[LightGBM] [Info] Auto-choosing row-wise multi-threading, the overhead of testing was 0.002532 seconds.\n",
            "You can set `force_row_wise=true` to remove the overhead.\n",
            "And if memory is not enough, you can set `force_col_wise=true`.\n",
            "[LightGBM] [Info] Total Bins 1110\n",
            "[LightGBM] [Info] Number of data points in the train set: 7000, number of used features: 10\n",
            "[LightGBM] [Info] [binary:BoostFromScore]: pavg=0.203714 -> initscore=-1.363240\n",
            "[LightGBM] [Info] Start training from score -1.363240\n"
          ]
        },
        {
          "name": "stderr",
          "output_type": "stream",
          "text": [
            "100%|██████████| 31/31 [00:16<00:00,  1.85it/s]"
          ]
        },
        {
          "name": "stdout",
          "output_type": "stream",
          "text": [
            "                               Accuracy  Balanced Accuracy  ROC AUC  F1 Score  \\\n",
            "Model                                                                           \n",
            "AdaBoostClassifier                 0.85               0.71     0.71      0.84   \n",
            "NearestCentroid                    0.70               0.70     0.70      0.73   \n",
            "LGBMClassifier                     0.85               0.70     0.70      0.84   \n",
            "RandomForestClassifier             0.85               0.70     0.70      0.84   \n",
            "XGBClassifier                      0.84               0.69     0.69      0.83   \n",
            "ExtraTreesClassifier               0.85               0.69     0.69      0.83   \n",
            "BaggingClassifier                  0.83               0.68     0.68      0.82   \n",
            "KNeighborsClassifier               0.83               0.68     0.68      0.82   \n",
            "SVC                                0.86               0.68     0.68      0.83   \n",
            "ExtraTreeClassifier                0.78               0.67     0.67      0.78   \n",
            "LabelSpreading                     0.79               0.66     0.66      0.78   \n",
            "LabelPropagation                   0.78               0.66     0.66      0.78   \n",
            "DecisionTreeClassifier             0.77               0.66     0.66      0.77   \n",
            "BernoulliNB                        0.81               0.62     0.62      0.79   \n",
            "LinearDiscriminantAnalysis         0.82               0.61     0.61      0.79   \n",
            "LogisticRegression                 0.82               0.60     0.60      0.79   \n",
            "CalibratedClassifierCV             0.82               0.60     0.60      0.78   \n",
            "Perceptron                         0.76               0.58     0.58      0.75   \n",
            "LinearSVC                          0.82               0.57     0.57      0.77   \n",
            "PassiveAggressiveClassifier        0.76               0.56     0.56      0.74   \n",
            "RidgeClassifier                    0.81               0.56     0.56      0.76   \n",
            "RidgeClassifierCV                  0.81               0.56     0.56      0.76   \n",
            "QuadraticDiscriminantAnalysis      0.80               0.53     0.53      0.73   \n",
            "GaussianNB                         0.79               0.51     0.51      0.71   \n",
            "SGDClassifier                      0.80               0.50     0.50      0.71   \n",
            "DummyClassifier                    0.80               0.50     0.50      0.71   \n",
            "\n",
            "                               Time Taken  \n",
            "Model                                      \n",
            "AdaBoostClassifier                   0.43  \n",
            "NearestCentroid                      0.05  \n",
            "LGBMClassifier                       0.31  \n",
            "RandomForestClassifier               2.08  \n",
            "XGBClassifier                        0.36  \n",
            "ExtraTreesClassifier                 0.83  \n",
            "BaggingClassifier                    0.42  \n",
            "KNeighborsClassifier                 0.31  \n",
            "SVC                                  2.37  \n",
            "ExtraTreeClassifier                  0.03  \n",
            "LabelSpreading                       5.53  \n",
            "LabelPropagation                     2.87  \n",
            "DecisionTreeClassifier               0.10  \n",
            "BernoulliNB                          0.03  \n",
            "LinearDiscriminantAnalysis           0.10  \n",
            "LogisticRegression                   0.07  \n",
            "CalibratedClassifierCV               0.13  \n",
            "Perceptron                           0.06  \n",
            "LinearSVC                            0.07  \n",
            "PassiveAggressiveClassifier          0.08  \n",
            "RidgeClassifier                      0.05  \n",
            "RidgeClassifierCV                    0.08  \n",
            "QuadraticDiscriminantAnalysis        0.11  \n",
            "GaussianNB                           0.03  \n",
            "SGDClassifier                        0.12  \n",
            "DummyClassifier                      0.02  \n"
          ]
        },
        {
          "name": "stderr",
          "output_type": "stream",
          "text": [
            "\n"
          ]
        }
      ],
      "source": [
        "from lazypredict.Supervised import LazyClassifier\n",
        "\n",
        "# Initialize LazyClassifier\n",
        "clf = LazyClassifier(verbose=0, ignore_warnings=True, custom_metric=None)\n",
        "# Fit the classifier on the training data\n",
        "models, predictions = clf.fit(X_train, X_test, y_train, y_test)\n",
        "\n",
        "# Print the model performance\n",
        "print(models)\n"
      ]
    },
    {
      "cell_type": "markdown",
      "metadata": {
        "id": "iu1grkderzV3"
      },
      "source": [
        "**AdaBoostClassifier**, **RandomForestClassifier** and **LogisticRegression** seem to be the best contenders.\n",
        "\n",
        "* **Balanced Accuracy and ROC AUC:** Both AdaBoost and RandomForest/LGBM have higher Balanced Accuracy and ROC AUC scores compared to Logistic Regression, indicating better overall performance in handling the imbalance in the data. Balanced Accuracy takes into account the imbalance in the classes, and ROC AUC reflects how well the model distinguishes between churn and non-churn cases.\n",
        "* **F1 Score:** All three models (AdaBoost, RandomForest, LGBM) have high F1-scores (0.84), which indicates they are effective at balancing precision and recall for churn detection. Logistic Regression's F1-score is slightly lower (0.79), indicating it may not perform as well at catching churn cases.\n",
        "\n",
        "Let me re-iterate our goal is to predict whether a customer will churn or not, which is a binary outcome (churn = 1, no churn = 0). Since the target variable is categorical (binary in this case), the task is to classify each customer into one of the two classes (churn or no churn). Logistic Regression, RandomForestClassifier, and AdaBoostClassifier are appropriate choices because they are designed for classification tasks."
      ]
    },
    {
      "cell_type": "markdown",
      "metadata": {
        "id": "TEA0ZaWDtEvN"
      },
      "source": [
        "# **Model Evaluation:**\n",
        "Apply Class Weights to handle class imbalance for these models.\n",
        "Train and Evaluate the models, focusing on metrics like F1-score, balanced accuracy, and ROC AUC.\n",
        "Hyperparameter Tuning to further optimize the models and improve performance.\n",
        "\n",
        "\n",
        "1. **AdaBoost:** AdaBoost doesn't directly have a class_weight parameter, but since it is built on decision trees (which can handle imbalanced data), it performs reasonably well. If needed, we can use a weighted base estimator.\n",
        "2. **Random Forest:** Add class_weight='balanced' to handle class imbalance.\n",
        "3. **Logistic Regression:** Use class_weight='balanced' to make the model focus more on the minority class (churn).\n",
        "\n"
      ]
    },
    {
      "cell_type": "code",
      "execution_count": 54,
      "metadata": {
        "id": "TLsXsfCQtDk6"
      },
      "outputs": [],
      "source": [
        "#We will import the necessary libraries to run the models\n",
        "from sklearn.ensemble import AdaBoostClassifier, RandomForestClassifier\n",
        "from sklearn.linear_model import LogisticRegression\n",
        "from sklearn.metrics import classification_report, roc_auc_score"
      ]
    },
    {
      "cell_type": "code",
      "execution_count": 55,
      "metadata": {
        "colab": {
          "base_uri": "https://localhost:8080/"
        },
        "id": "rEkDj7Ukloqf",
        "outputId": "b477e6f1-a23b-480b-831e-6619fddcb9e3"
      },
      "outputs": [
        {
          "name": "stdout",
          "output_type": "stream",
          "text": [
            "Logistic Regression Performance Result:\n",
            "              precision    recall  f1-score   support\n",
            "\n",
            "           0       0.91      0.72      0.81      2389\n",
            "           1       0.40      0.74      0.52       611\n",
            "\n",
            "    accuracy                           0.72      3000\n",
            "   macro avg       0.66      0.73      0.66      3000\n",
            "weighted avg       0.81      0.72      0.75      3000\n",
            "\n",
            "ROC AUC: 0.8050516586180935\n",
            "\n",
            "Random Forest Performance Result:\n",
            "              precision    recall  f1-score   support\n",
            "\n",
            "           0       0.87      0.97      0.92      2389\n",
            "           1       0.77      0.45      0.57       611\n",
            "\n",
            "    accuracy                           0.86      3000\n",
            "   macro avg       0.82      0.71      0.74      3000\n",
            "weighted avg       0.85      0.86      0.85      3000\n",
            "\n",
            "ROC AUC: 0.8647887652011162\n",
            "\n",
            " ADABoost Performance Result:\n",
            "              precision    recall  f1-score   support\n",
            "\n",
            "           0       0.88      0.96      0.92      2389\n",
            "           1       0.75      0.50      0.60       611\n",
            "\n",
            "    accuracy                           0.86      3000\n",
            "   macro avg       0.82      0.73      0.76      3000\n",
            "weighted avg       0.86      0.86      0.85      3000\n",
            "\n",
            "ROC AUC: 0.8653107977849923\n"
          ]
        }
      ],
      "source": [
        "#Initialize Models\n",
        "log_reg=LogisticRegression(class_weight='balanced', max_iter=1000, random_state=42)\n",
        "random_forest_clf=RandomForestClassifier(class_weight='balanced',random_state=42)\n",
        "adaboost_clf=AdaBoostClassifier(random_state=42)\n",
        "\n",
        "#Train Models\n",
        "log_reg.fit(X_train,y_train)\n",
        "random_forest_clf.fit(X_train,y_train)\n",
        "adaboost_clf.fit(X_train,y_train)\n",
        "\n",
        "#Make Predictions on the test set\n",
        "log_reg_prediction=log_reg.predict(X_test)\n",
        "random_forest_prediction=random_forest_clf.predict(X_test)\n",
        "adaboost_prediction=adaboost_clf.predict(X_test)\n",
        "\n",
        "#Model evaluation.\n",
        "\n",
        "#Printing Logistic Regression Results\n",
        "print(\"Logistic Regression Performance Result:\")\n",
        "print(classification_report(y_test,log_reg_prediction))\n",
        "print(f\"ROC AUC: {roc_auc_score(y_test,log_reg.predict_proba(X_test)[:, 1])}\")\n",
        "\n",
        "\n",
        "#Printing Random Forest Result\n",
        "print(\"\\nRandom Forest Performance Result:\")\n",
        "print(classification_report(y_test,random_forest_prediction))\n",
        "print(f\"ROC AUC: {roc_auc_score(y_test,random_forest_clf.predict_proba(X_test)[:, 1])}\")\n",
        "\n",
        "#Printing ADABoost Performance\n",
        "\n",
        "print(\"\\n ADABoost Performance Result:\")\n",
        "print(classification_report(y_test,adaboost_prediction))\n",
        "print(f\"ROC AUC: {roc_auc_score(y_test,adaboost_clf.predict_proba(X_test)[:, 1])}\")\n"
      ]
    },
    {
      "cell_type": "markdown",
      "metadata": {
        "id": "vdQV_ejuxnlv"
      },
      "source": [
        "#** Interpretation of Results**\n",
        "\n",
        "##**Logistic Regression:**\n",
        "* Precision (churn class): 0.40 means the model makes a lot of false positives (incorrectly predicting churn when they don’t churn).\n",
        "* Recall (churn class): 0.74 means the model catches most of the churners, but at the expense of some false positives.\n",
        "* F1-score: 0.52 shows a balance between precision and recall, but still not optimal for churn.\n",
        "*ROC AUC: 0.805 shows decent ability to separate churners from non-churners, but there is room for improvement.\n",
        "\n",
        "## **Random Forest:**\n",
        "* Precision (churn class): 0.77 is higher than Logistic Regression, meaning it makes fewer false positives.\n",
        "* Recall (churn class): 0.45 is lower, meaning it misses many actual churners.\n",
        "* F1-score: 0.57 indicates an imbalance between precision and recall, with a better focus on precision than recall.\n",
        "* ROC AUC: 0.865 indicates strong capability to distinguish between churners and non-churners.\n",
        "\n",
        "## **AdaBoost:**\n",
        "* Precision (churn class): 0.75 is similar to Random Forest, meaning relatively few false positives.\n",
        "* Recall (churn class): 0.50 is slightly better than Random Forest, catching half of the actual churners.\n",
        "* F1-score: 0.60 shows a better balance between precision and recall than Random Forest.\n",
        "* ROC AUC: 0.865 indicates that AdaBoost, like Random Forest, is good at separating churners from non-churners.\n",
        "\n",
        "## **Conclusion based on the results:**\n",
        "* **Logistic Regression** performs reasonably well at identifying churners (high recall), but at the cost of more false positives (low precision).\n",
        "* Random Forest has high precision but lower recall, meaning it predicts fewer false positives but misses more churners.\n",
        "* **AdaBoost** balances precision and recall better than Random Forest, making it a strong candidate for identifying churn while maintaining a decent number of correct predictions. We will stick with AdaBoost and now move on to the next step which is hyperparameter tuning.\n",
        "\n",
        "\n",
        "\n",
        "\n",
        "\n",
        "\n",
        "\n",
        "\n",
        "\n",
        "\n",
        "\n"
      ]
    },
    {
      "cell_type": "markdown",
      "metadata": {
        "id": "RCRYOVHIy60M"
      },
      "source": []
    },
    {
      "cell_type": "code",
      "execution_count": 56,
      "metadata": {
        "colab": {
          "base_uri": "https://localhost:8080/",
          "height": 472
        },
        "id": "1cFGDzoLy5MG",
        "outputId": "494f43dd-3b67-45c6-9cf4-66ade144b9b4"
      },
      "outputs": [
        {
          "data": {
            "image/png": "[encoded data removed]",
            "text/plain": [
              "<Figure size 640x480 with 2 Axes>"
            ]
          },
          "metadata": {},
          "output_type": "display_data"
        }
      ],
      "source": [
        "# Model Performance Evaluation\n",
        "# Confusion matrix to show the number of true positives, false positives, true negatives, and false negatives.\n",
        "\n",
        "import matplotlib.pyplot as plt\n",
        "from sklearn.metrics import confusion_matrix, ConfusionMatrixDisplay\n",
        "\n",
        "# Generate confusion matrix for AdaBoost\n",
        "cm = confusion_matrix(y_test, adaboost_clf.predict(X_test))\n",
        "disp = ConfusionMatrixDisplay(confusion_matrix=cm, display_labels=[0, 1])\n",
        "disp.plot(cmap=plt.cm.Blues)\n",
        "plt.title('Confusion Matrix - AdaBoost')\n",
        "plt.show()\n"
      ]
    },
    {
      "cell_type": "markdown",
      "metadata": {
        "id": "ic4yyvZn121v"
      },
      "source": [
        "# Confusion Matrix Breakdown:\n",
        "* True Negatives (TN): The model correctly predicted non-churn (0) for 2290 customers. This means these customers did not churn, and the model predicted correctly.\n",
        "* False Positives (FP): The model incorrectly predicted churn (1) for 99 customers who actually did not churn. This means that these customers were misclassified as churners, but they remained with the bank.\n",
        "* False Negatives (FN): The model incorrectly predicted non-churn (0) for 307 customers who actually churned. This means the model failed to identify these churners.\n",
        "* True Positives (TP): The model correctly predicted churn (1) for 304 customers. These customers actually churned, and the model successfully identified them.\n"
      ]
    },
    {
      "cell_type": "code",
      "execution_count": 57,
      "metadata": {
        "colab": {
          "base_uri": "https://localhost:8080/",
          "height": 472
        },
        "id": "kAeAnZ8O1f-p",
        "outputId": "759b9abe-a114-4b0d-d16a-a1a1bb77ef49"
      },
      "outputs": [
        {
          "data": {
            "image/png": "[encoded data removed]",
            "text/plain": [
              "<Figure size 640x480 with 1 Axes>"
            ]
          },
          "metadata": {},
          "output_type": "display_data"
        }
      ],
      "source": [
        "from sklearn.metrics import roc_curve, roc_auc_score\n",
        "\n",
        "# AdaBoost ROC curve\n",
        "y_proba = adaboost_clf.predict_proba(X_test)[:, 1]  # Get probabilities for the positive class\n",
        "fpr, tpr, thresholds = roc_curve(y_test, y_proba)\n",
        "roc_auc = roc_auc_score(y_test, y_proba)\n",
        "\n",
        "# Plot ROC Curve\n",
        "plt.plot(fpr, tpr, label=f'ROC Curve (area = {roc_auc:.2f})')\n",
        "plt.plot([0, 1], [0, 1], 'k--')  # Dashed diagonal line\n",
        "plt.xlim([0.0, 1.0])\n",
        "plt.ylim([0.0, 1.05])\n",
        "plt.xlabel('False Positive Rate')\n",
        "plt.ylabel('True Positive Rate')\n",
        "plt.title('Receiver Operating Characteristic - AdaBoost')\n",
        "plt.legend(loc='lower right')\n",
        "plt.show()\n"
      ]
    },
    {
      "cell_type": "markdown",
      "metadata": {
        "id": "p-cvwVfm4Pwm"
      },
      "source": [
        "The ROC curve shows that your AdaBoost model performs very well in identifying churners with an AUC of 0.87. This indicates that the model has a high capability of distinguishing churners from non-churners. It means that about 87% of the time, the model will rank a randomly chosen churner higher than a randomly chosen non-churner."
      ]
    },
    {
      "cell_type": "code",
      "execution_count": null,
      "metadata": {},
      "outputs": [
        {
          "data": {
            "text/html": [
              "<div>\n",
              "<style scoped>\n",
              "    .dataframe tbody tr th:only-of-type {\n",
              "        vertical-align: middle;\n",
              "    }\n",
              "\n",
              "    .dataframe tbody tr th {\n",
              "        vertical-align: top;\n",
              "    }\n",
              "\n",
              "    .dataframe thead th {\n",
              "        text-align: right;\n",
              "    }\n",
              "</style>\n",
              "<table border=\"1\" class=\"dataframe\">\n",
              "  <thead>\n",
              "    <tr style=\"text-align: right;\">\n",
              "      <th></th>\n",
              "      <th>Model</th>\n",
              "      <th>Precision</th>\n",
              "      <th>Recall</th>\n",
              "      <th>F1-Score</th>\n",
              "      <th>ROC AUC</th>\n",
              "    </tr>\n",
              "  </thead>\n",
              "  <tbody>\n",
              "    <tr>\n",
              "      <th>0</th>\n",
              "      <td>Logistic Regression</td>\n",
              "      <td>0.40</td>\n",
              "      <td>0.74</td>\n",
              "      <td>0.52</td>\n",
              "      <td>0.805</td>\n",
              "    </tr>\n",
              "    <tr>\n",
              "      <th>1</th>\n",
              "      <td>Random Forest</td>\n",
              "      <td>0.77</td>\n",
              "      <td>0.45</td>\n",
              "      <td>0.57</td>\n",
              "      <td>0.865</td>\n",
              "    </tr>\n",
              "    <tr>\n",
              "      <th>2</th>\n",
              "      <td>AdaBoost</td>\n",
              "      <td>0.75</td>\n",
              "      <td>0.50</td>\n",
              "      <td>0.60</td>\n",
              "      <td>0.865</td>\n",
              "    </tr>\n",
              "  </tbody>\n",
              "</table>\n",
              "</div>"
            ],
            "text/plain": [
              "                 Model  Precision  Recall  F1-Score  ROC AUC\n",
              "0  Logistic Regression       0.40    0.74      0.52    0.805\n",
              "1        Random Forest       0.77    0.45      0.57    0.865\n",
              "2             AdaBoost       0.75    0.50      0.60    0.865"
            ]
          },
          "metadata": {},
          "output_type": "display_data"
        }
      ],
      "source": [
        "import pandas as pd\n",
        "\n",
        "# Create a performance summary\n",
        "data = {\n",
        "    'Model': ['Logistic Regression', 'Random Forest', 'AdaBoost'],\n",
        "    'Precision': [0.40, 0.77, 0.75],\n",
        "    'Recall': [0.74, 0.45, 0.50],\n",
        "    'F1-Score': [0.52, 0.57, 0.60],\n",
        "    'ROC AUC': [0.805, 0.865, 0.865]\n",
        "}\n",
        "\n",
        "df_performance = pd.DataFrame(data)\n",
        "df_performance"
      ]
    },
    {
      "cell_type": "markdown",
      "metadata": {
        "id": "hN9jWqyo45XZ"
      },
      "source": [
        "# **Conclusion**\n",
        "\n",
        "The analysis conducted in this project aimed to predict customer churn for a bank. After evaluating multiple models—Logistic Regression, Random Forest, and AdaBoost—the AdaBoost model was chosen for its balance between precision and recall, as well as its strong ROC AUC score of 0.87. This model provides an effective tool for the bank to identify customers who are at risk of churning, allowing for proactive retention efforts. Future work could include further hyperparameter tuning and the inclusion of additional features to improve model performance.\n",
        "\n",
        "For this project, we decided to skip hyperparameter tuning due to the size of the dataset and the primary goals of the analysis. While hyperparameter tuning can improve model performance by fine-tuning algorithm-specific parameters, it is typically more critical for larger, more complex datasets. Since our dataset is relatively small and the model performance with default parameters was already strong—particularly for the AdaBoost model, which achieved an ROC AUC of 0.87—we chose to focus on model selection and evaluation rather than exhaustive tuning. Furthermore, for a portfolio project, the priority was to demonstrate key steps in the machine learning pipeline, including exploratory data analysis (EDA), feature engineering, and model evaluation. Hyperparameter tuning could be a next step in a larger-scale production environment or with a more complex dataset.\n",
        "\n"
      ]
    }
  ],
  "metadata": {
    "colab": {
      "provenance": []
    },
    "kernelspec": {
      "display_name": "Python 3",
      "name": "python3"
    },
    "language_info": {
      "codemirror_mode": {
        "name": "ipython",
        "version": 3
      },
      "file_extension": ".py",
      "mimetype": "text/x-python",
      "name": "python",
      "nbconvert_exporter": "python",
      "pygments_lexer": "ipython3",
      "version": "3.12.3"
    },
    "widgets": {
      "application/vnd.jupyter.widget-state+json": {
        "2d77a1bfd44d47cc9bf788229a541cca": {
          "model_module": "@jupyter-widgets/base",
          "model_module_version": "1.2.0",
          "model_name": "LayoutModel",
          "state": {
            "_model_module": "@jupyter-widgets/base",
            "_model_module_version": "1.2.0",
            "_model_name": "LayoutModel",
            "_view_count": null,
            "_view_module": "@jupyter-widgets/base",
            "_view_module_version": "1.2.0",
            "_view_name": "LayoutView",
            "align_content": null,
            "align_items": null,
            "align_self": null,
            "border": null,
            "bottom": null,
            "display": null,
            "flex": null,
            "flex_flow": null,
            "grid_area": null,
            "grid_auto_columns": null,
            "grid_auto_flow": null,
            "grid_auto_rows": null,
            "grid_column": null,
            "grid_gap": null,
            "grid_row": null,
            "grid_template_areas": null,
            "grid_template_columns": null,
            "grid_template_rows": null,
            "height": null,
            "justify_content": null,
            "justify_items": null,
            "left": null,
            "margin": null,
            "max_height": null,
            "max_width": null,
            "min_height": null,
            "min_width": null,
            "object_fit": null,
            "object_position": null,
            "order": null,
            "overflow": null,
            "overflow_x": null,
            "overflow_y": null,
            "padding": null,
            "right": null,
            "top": null,
            "visibility": null,
            "width": null
          }
        },
        "50d78119090e402fb7d7ec51c6fc39ff": {
          "model_module": "@jupyter-widgets/controls",
          "model_module_version": "1.5.0",
          "model_name": "ProgressStyleModel",
          "state": {
            "_model_module": "@jupyter-widgets/controls",
            "_model_module_version": "1.5.0",
            "_model_name": "ProgressStyleModel",
            "_view_count": null,
            "_view_module": "@jupyter-widgets/base",
            "_view_module_version": "1.2.0",
            "_view_name": "StyleView",
            "bar_color": null,
            "description_width": ""
          }
        },
        "5df6975400c64bf5bcecbd93165b6195": {
          "model_module": "@jupyter-widgets/base",
          "model_module_version": "1.2.0",
          "model_name": "LayoutModel",
          "state": {
            "_model_module": "@jupyter-widgets/base",
            "_model_module_version": "1.2.0",
            "_model_name": "LayoutModel",
            "_view_count": null,
            "_view_module": "@jupyter-widgets/base",
            "_view_module_version": "1.2.0",
            "_view_name": "LayoutView",
            "align_content": null,
            "align_items": null,
            "align_self": null,
            "border": null,
            "bottom": null,
            "display": null,
            "flex": "2",
            "flex_flow": null,
            "grid_area": null,
            "grid_auto_columns": null,
            "grid_auto_flow": null,
            "grid_auto_rows": null,
            "grid_column": null,
            "grid_gap": null,
            "grid_row": null,
            "grid_template_areas": null,
            "grid_template_columns": null,
            "grid_template_rows": null,
            "height": null,
            "justify_content": null,
            "justify_items": null,
            "left": null,
            "margin": null,
            "max_height": null,
            "max_width": null,
            "min_height": null,
            "min_width": null,
            "object_fit": null,
            "object_position": null,
            "order": null,
            "overflow": null,
            "overflow_x": null,
            "overflow_y": null,
            "padding": null,
            "right": null,
            "top": null,
            "visibility": null,
            "width": null
          }
        },
        "60a00d21e264484ab1923a5db5cdffd0": {
          "model_module": "@jupyter-widgets/base",
          "model_module_version": "1.2.0",
          "model_name": "LayoutModel",
          "state": {
            "_model_module": "@jupyter-widgets/base",
            "_model_module_version": "1.2.0",
            "_model_name": "LayoutModel",
            "_view_count": null,
            "_view_module": "@jupyter-widgets/base",
            "_view_module_version": "1.2.0",
            "_view_name": "LayoutView",
            "align_content": null,
            "align_items": null,
            "align_self": null,
            "border": null,
            "bottom": null,
            "display": null,
            "flex": null,
            "flex_flow": null,
            "grid_area": null,
            "grid_auto_columns": null,
            "grid_auto_flow": null,
            "grid_auto_rows": null,
            "grid_column": null,
            "grid_gap": null,
            "grid_row": null,
            "grid_template_areas": null,
            "grid_template_columns": null,
            "grid_template_rows": null,
            "height": null,
            "justify_content": null,
            "justify_items": null,
            "left": null,
            "margin": null,
            "max_height": null,
            "max_width": null,
            "min_height": null,
            "min_width": null,
            "object_fit": null,
            "object_position": null,
            "order": null,
            "overflow": null,
            "overflow_x": null,
            "overflow_y": null,
            "padding": null,
            "right": null,
            "top": null,
            "visibility": null,
            "width": null
          }
        },
        "6dd38b78bc82451c825bb69df6c71066": {
          "model_module": "@jupyter-widgets/base",
          "model_module_version": "1.2.0",
          "model_name": "LayoutModel",
          "state": {
            "_model_module": "@jupyter-widgets/base",
            "_model_module_version": "1.2.0",
            "_model_name": "LayoutModel",
            "_view_count": null,
            "_view_module": "@jupyter-widgets/base",
            "_view_module_version": "1.2.0",
            "_view_name": "LayoutView",
            "align_content": null,
            "align_items": null,
            "align_self": null,
            "border": null,
            "bottom": null,
            "display": "inline-flex",
            "flex": null,
            "flex_flow": "row wrap",
            "grid_area": null,
            "grid_auto_columns": null,
            "grid_auto_flow": null,
            "grid_auto_rows": null,
            "grid_column": null,
            "grid_gap": null,
            "grid_row": null,
            "grid_template_areas": null,
            "grid_template_columns": null,
            "grid_template_rows": null,
            "height": null,
            "justify_content": null,
            "justify_items": null,
            "left": null,
            "margin": null,
            "max_height": null,
            "max_width": null,
            "min_height": null,
            "min_width": null,
            "object_fit": null,
            "object_position": null,
            "order": null,
            "overflow": null,
            "overflow_x": null,
            "overflow_y": null,
            "padding": null,
            "right": null,
            "top": null,
            "visibility": null,
            "width": "100%"
          }
        },
        "8e25e469030f4ef69087d9575414f255": {
          "model_module": "@jupyter-widgets/controls",
          "model_module_version": "1.5.0",
          "model_name": "HBoxModel",
          "state": {
            "_dom_classes": [],
            "_model_module": "@jupyter-widgets/controls",
            "_model_module_version": "1.5.0",
            "_model_name": "HBoxModel",
            "_view_count": null,
            "_view_module": "@jupyter-widgets/controls",
            "_view_module_version": "1.5.0",
            "_view_name": "HBoxView",
            "box_style": "",
            "children": [
              "IPY_MODEL_a7fdde9a0e9443d4aafff84a83ec3d40",
              "IPY_MODEL_e0ec96873f3b4221bf7a3dfb02f5ff88",
              "IPY_MODEL_b0c0b5dc270c46ad9cf779042c2a3f70"
            ],
            "layout": "IPY_MODEL_6dd38b78bc82451c825bb69df6c71066"
          }
        },
        "a7fdde9a0e9443d4aafff84a83ec3d40": {
          "model_module": "@jupyter-widgets/controls",
          "model_module_version": "1.5.0",
          "model_name": "HTMLModel",
          "state": {
            "_dom_classes": [],
            "_model_module": "@jupyter-widgets/controls",
            "_model_module_version": "1.5.0",
            "_model_name": "HTMLModel",
            "_view_count": null,
            "_view_module": "@jupyter-widgets/controls",
            "_view_module_version": "1.5.0",
            "_view_name": "HTMLView",
            "description": "",
            "description_tooltip": null,
            "layout": "IPY_MODEL_2d77a1bfd44d47cc9bf788229a541cca",
            "placeholder": "​",
            "style": "IPY_MODEL_d02bc04b0b38475b896ddb870507fdea",
            "value": "Done! Use &#x27;show&#x27; commands to display/save.   "
          }
        },
        "b0c0b5dc270c46ad9cf779042c2a3f70": {
          "model_module": "@jupyter-widgets/controls",
          "model_module_version": "1.5.0",
          "model_name": "HTMLModel",
          "state": {
            "_dom_classes": [],
            "_model_module": "@jupyter-widgets/controls",
            "_model_module_version": "1.5.0",
            "_model_name": "HTMLModel",
            "_view_count": null,
            "_view_module": "@jupyter-widgets/controls",
            "_view_module_version": "1.5.0",
            "_view_name": "HTMLView",
            "description": "",
            "description_tooltip": null,
            "layout": "IPY_MODEL_60a00d21e264484ab1923a5db5cdffd0",
            "placeholder": "​",
            "style": "IPY_MODEL_d32257f742824b5ba52f0bd7dc63476a",
            "value": " [100%]   00:02 -&gt; (00:00 left)"
          }
        },
        "d02bc04b0b38475b896ddb870507fdea": {
          "model_module": "@jupyter-widgets/controls",
          "model_module_version": "1.5.0",
          "model_name": "DescriptionStyleModel",
          "state": {
            "_model_module": "@jupyter-widgets/controls",
            "_model_module_version": "1.5.0",
            "_model_name": "DescriptionStyleModel",
            "_view_count": null,
            "_view_module": "@jupyter-widgets/base",
            "_view_module_version": "1.2.0",
            "_view_name": "StyleView",
            "description_width": ""
          }
        },
        "d32257f742824b5ba52f0bd7dc63476a": {
          "model_module": "@jupyter-widgets/controls",
          "model_module_version": "1.5.0",
          "model_name": "DescriptionStyleModel",
          "state": {
            "_model_module": "@jupyter-widgets/controls",
            "_model_module_version": "1.5.0",
            "_model_name": "DescriptionStyleModel",
            "_view_count": null,
            "_view_module": "@jupyter-widgets/base",
            "_view_module_version": "1.2.0",
            "_view_name": "StyleView",
            "description_width": ""
          }
        },
        "e0ec96873f3b4221bf7a3dfb02f5ff88": {
          "model_module": "@jupyter-widgets/controls",
          "model_module_version": "1.5.0",
          "model_name": "FloatProgressModel",
          "state": {
            "_dom_classes": [],
            "_model_module": "@jupyter-widgets/controls",
            "_model_module_version": "1.5.0",
            "_model_name": "FloatProgressModel",
            "_view_count": null,
            "_view_module": "@jupyter-widgets/controls",
            "_view_module_version": "1.5.0",
            "_view_name": "ProgressView",
            "bar_style": "success",
            "description": "",
            "description_tooltip": null,
            "layout": "IPY_MODEL_5df6975400c64bf5bcecbd93165b6195",
            "max": 1,
            "min": 0,
            "orientation": "horizontal",
            "style": "IPY_MODEL_50d78119090e402fb7d7ec51c6fc39ff",
            "value": 1
          }
        }
      }
    }
  },
  "nbformat": 4,
  "nbformat_minor": 0
}
